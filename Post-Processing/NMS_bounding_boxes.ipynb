{
 "cells": [
  {
   "cell_type": "code",
   "execution_count": 2,
   "metadata": {},
   "outputs": [],
   "source": [
    "import numpy as np\n",
    "import scipy.spatial.distance\n",
    "from imutils.object_detection import non_max_suppression\n",
    "import scipy.signal\n",
    "from skimage.segmentation import slic\n",
    "from skimage.util import img_as_float\n",
    "from scipy.optimize import minimize\n",
    "\n",
    "import os\n",
    "import scipy.io\n",
    "import cv2\n",
    "\n",
    "from skimage import io\n",
    "import itertools"
   ]
  },
  {
   "cell_type": "code",
   "execution_count": 3,
   "metadata": {},
   "outputs": [],
   "source": [
    "def mkdir(dir_path):\n",
    "    if not os.path.exists(dir_path):\n",
    "        os.makedirs(dir_path)"
   ]
  },
  {
   "cell_type": "code",
   "execution_count": 4,
   "metadata": {},
   "outputs": [
    {
     "name": "stdout",
     "output_type": "stream",
     "text": [
      "HS_files ['0001.jpg', '0002.jpg', '0006.jpg', '0008.jpg', '0009.jpg', '0010.jpg', '0012.jpg', '0014.jpg', '0015.jpg', '0016.jpg', '0017.jpg', '0018.jpg', '0019.jpg', '0020.jpg', '0021.jpg', '0022.jpg', '0024.jpg', '0026.jpg', '0027.jpg', '0028.jpg', '0029.jpg', '0031.jpg', '0032.jpg', '0033.jpg', '0034.jpg', '0036.jpg', '0037.jpg', '0038.jpg', '0039.jpg', '0040.jpg', '0041.jpg', '0042.jpg', '0043.jpg', '0044.jpg', '0045.jpg', '0046.jpg', '0047.jpg', '0050.jpg', '0051.jpg', '0052.jpg', '0053.jpg', '0054.jpg', '0056.jpg', '0058.jpg', '0061.jpg', '0062.jpg', '0063.jpg', '0064.jpg', '0065.jpg', '0068.jpg', '0069.jpg', '0070.jpg', '0071.jpg', '0072.jpg', '0074.jpg', '0076.jpg', '0077.jpg', '0078.jpg', '0079.jpg', '0082.jpg']\n"
     ]
    }
   ],
   "source": [
    "File_path = '/home/nitk/Desktop/Raj_M.Tech_Project/Approach8/Output_Image_Dataset/Full_System_Output'\n",
    "HS_files = sorted(os.listdir(File_path))\n",
    "print(\"HS_files\", HS_files)\n",
    "# num = 0;\n",
    "save_path = '/home/nitk/Desktop/Raj_M.Tech_Project/Approach8/Output_Image_Dataset/Final_Output'"
   ]
  },
  {
   "cell_type": "code",
   "execution_count": 5,
   "metadata": {},
   "outputs": [],
   "source": [
    "# print('file path', File_path)\n",
    "file_list = os.listdir(File_path)\n",
    "for file in file_list:\n",
    "    file_name = file.rsplit('.', 1)\n",
    "    input_img = os.path.join(File_path, file)\n",
    "    #  Load the saliency map\n",
    "    saliency_map = cv2.imread(input_img, cv2.IMREAD_GRAYSCALE)\n",
    "\n",
    "    # Apply threshold to obtain the binary image\n",
    "    # ret, saliency_map = cv2.threshold(saliency_map, 127, 255, cv2.THRESH_BINARY)\n",
    "\n",
    "    # Threshold the saliency map to obtain a binary mask\n",
    "    threshold = 128  # adjust this threshold as needed\n",
    "    mask = (saliency_map > threshold).astype(np.uint8)\n",
    "\n",
    "    # Find the connected components in the binary mask\n",
    "    components, labels = cv2.connectedComponents(mask)\n",
    "\n",
    "    # Initialize a list to store the bounding boxes and scores of each component\n",
    "    boxes = []\n",
    "    scores = []\n",
    "\n",
    "    # Loop over each component and compute its bounding box and score\n",
    "    for i in range(1, np.amax(components) + 1):\n",
    "        # Extract the binary mask for the current component\n",
    "        component_mask = (labels == i).astype(np.uint8)\n",
    "\n",
    "        # Compute the bounding box of the component\n",
    "        bbox = cv2.boundingRect(component_mask)\n",
    "\n",
    "        # Compute the score of the component as the maximum saliency value within the component\n",
    "        if np.count_nonzero(component_mask) > 0:\n",
    "            score = np.max(saliency_map[component_mask == 1])\n",
    "        else:\n",
    "            score = 0\n",
    "\n",
    "        # Append the bounding box and score to the list\n",
    "        boxes.append(bbox)\n",
    "        scores.append(score)\n",
    "\n",
    "    # Apply non-maximum suppression to the list of bounding boxes and scores\n",
    "    overlap_thresh = 0.5  # adjust this threshold as needed\n",
    "    scores = np.array(scores)\n",
    "    boxes = np.array(boxes)\n",
    "    selected_indices = []\n",
    "\n",
    "    # Flatten the scores array before performing argsort\n",
    "    order = scores.ravel().argsort()[::-1]\n",
    "    areas = (boxes[:, 2] * boxes[:, 3])\n",
    "\n",
    "    if np.any(areas == 0):\n",
    "        areas[areas == 0] = 1\n",
    "\n",
    "    # Loop over the indices in the order determined by the scores and compute the overlap of each bounding box with the previously selected bounding boxes\n",
    "    while order.size > 0:\n",
    "        # Select the bounding box with the highest score and add it to the list of selected boxes\n",
    "        i = order[0]\n",
    "        selected_indices.append(i)\n",
    "\n",
    "        # Compute the overlap of the selected bounding box with the other bounding boxes\n",
    "        xx1 = np.maximum(boxes[i, 0], boxes[order[1:], 0])\n",
    "        yy1 = np.maximum(boxes[i, 1], boxes[order[1:], 1])\n",
    "        xx2 = np.minimum(boxes[i, 0] + boxes[i, 2], boxes[order[1:], 0] + boxes[order[1:], 2])\n",
    "        yy2 = np.minimum(boxes[i, 1] + boxes[i, 3], boxes[order[1:], 1] + boxes[order[1:], 3])\n",
    "        w = np.maximum(0.0, xx2 - xx1 + 1)\n",
    "        h = np.maximum(0.0, yy2 - yy1 + 1)\n",
    "        overlap = (w * h) / areas[order[1:]]\n",
    "\n",
    "        # Remove bounding boxes with overlap greater than the overlap threshold\n",
    "        inds = np.where(overlap <= overlap_thresh)[0]\n",
    "        order = order[inds + 1]\n",
    "\n",
    "    # Loop over the selected bounding boxes and draw them on the image\n",
    "    img_rgb = cv2.cvtColor(saliency_map, cv2.COLOR_GRAY2RGB)\n",
    "    for i in selected_indices:\n",
    "        x, y, w, h = boxes[i]\n",
    "        if w > 0 and h > 0:\n",
    "            area = img_rgb[y:y+h, x:x+w]\n",
    "            gray_roi = np.zeros((h, w), dtype=np.uint8)\n",
    "            white_roi = 255 - gray_roi\n",
    "            img_rgb[y:y+h, x:x+w] = cv2.cvtColor(white_roi, cv2.COLOR_GRAY2BGR)\n",
    "        \n",
    "        # cv2.rectangle(img_rgb, (x, y), (x + w, y + h), (0, 255, 0), 2)\n",
    "\n",
    "    save_im_final_featureMap = save_path + '/' + file_name[0] + '.png'\n",
    "    cv2.imwrite(save_im_final_featureMap, img_rgb)"
   ]
  }
 ],
 "metadata": {
  "kernelspec": {
   "display_name": "Python 3",
   "language": "python",
   "name": "python3"
  },
  "language_info": {
   "codemirror_mode": {
    "name": "ipython",
    "version": 3
   },
   "file_extension": ".py",
   "mimetype": "text/x-python",
   "name": "python",
   "nbconvert_exporter": "python",
   "pygments_lexer": "ipython3",
   "version": "3.10.6"
  },
  "orig_nbformat": 4,
  "vscode": {
   "interpreter": {
    "hash": "31f2aee4e71d21fbe5cf8b01ff0e069b9275f58929596ceb00d14d90e3e16cd6"
   }
  }
 },
 "nbformat": 4,
 "nbformat_minor": 2
}
