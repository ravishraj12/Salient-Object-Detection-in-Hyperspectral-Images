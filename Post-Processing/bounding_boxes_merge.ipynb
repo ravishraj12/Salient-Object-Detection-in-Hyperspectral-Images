{
 "cells": [
  {
   "cell_type": "code",
   "execution_count": 9,
   "metadata": {},
   "outputs": [],
   "source": [
    "# import math\n",
    "import numpy as np\n",
    "import scipy.spatial.distance\n",
    "import scipy.signal\n",
    "from skimage.segmentation import slic\n",
    "from skimage.util import img_as_float\n",
    "from scipy.optimize import minimize\n",
    "\n",
    "import os\n",
    "import scipy.io\n",
    "import cv2\n",
    "import pywt\n",
    "import numpy as np\n",
    "import numpy as np\n",
    "# from mmdet.core import bbox_iou\n",
    "\n",
    "from skimage import io\n",
    "# import itertools"
   ]
  },
  {
   "cell_type": "code",
   "execution_count": 10,
   "metadata": {},
   "outputs": [
    {
     "name": "stdout",
     "output_type": "stream",
     "text": [
      "HS_files ['0022.jpg']\n"
     ]
    }
   ],
   "source": [
    "File_path = '/home/nitk/Desktop/Raj_M.Tech_Project/Approach8/Input_Image_Dataset/bounding_boxes_with_multi_boxes'\n",
    "HS_files = sorted(os.listdir(File_path))\n",
    "print(\"HS_files\", HS_files)\n",
    "# num = 0;\n",
    "save_path = '/home/nitk/Desktop/Raj_M.Tech_Project/Approach8/Input_Image_Dataset/bounding_box_single_box'"
   ]
  },
  {
   "cell_type": "code",
   "execution_count": 11,
   "metadata": {},
   "outputs": [],
   "source": [
    "def mkdir(dir_path):\n",
    "    if not os.path.exists(dir_path):\n",
    "        os.makedirs(dir_path)"
   ]
  },
  {
   "cell_type": "code",
   "execution_count": 47,
   "metadata": {},
   "outputs": [],
   "source": [
    "def calculate_iou(box1, box2):\n",
    "    # Calculate the coordinates of the intersection rectangle\n",
    "    x1 = max(box1[0], box2[0])\n",
    "    y1 = max(box1[1], box2[1])\n",
    "    x2 = min(box1[2], box2[2])\n",
    "    y2 = min(box1[3], box2[3])\n",
    "    \n",
    "    # Calculate the area of intersection rectangle\n",
    "    intersection_area = max(0, np.abs(x2 - x1 + 1)) * max(0, np.abs(y2 - y1 + 1))\n",
    "    print('intersection area', intersection_area)\n",
    "    \n",
    "    # Calculate the areas of both bounding boxes\n",
    "    box1_area = (box1[2] - box1[0] + 1) * (box1[3] - box1[1] + 1)\n",
    "    print('box1_area', box1_area)\n",
    "    box2_area = (box2[2] - box2[0] + 1) * (box2[3] - box2[1] + 1)\n",
    "    print('box2_area', box2_area)\n",
    "\n",
    "    # Calculate the IoU\n",
    "    iou = intersection_area / float(np.abs(box1_area) + np.abs(box2_area) - np.abs(intersection_area))\n",
    "    \n",
    "    return np.abs(iou)"
   ]
  },
  {
   "cell_type": "code",
   "execution_count": 39,
   "metadata": {},
   "outputs": [],
   "source": [
    "def combine_bboxes(box1, box2):\n",
    "    iou = calculate_iou(box1, box2)\n",
    "    print('iou', iou)\n",
    "    if iou > 0.1:\n",
    "        # Boxes are overlapping, merge them\n",
    "        combined_box = [min(box1[0], box2[0]), min(box1[1], box2[1]), max(box1[2], box2[2]), max(box1[3], box2[3])]\n",
    "        return combined_box\n",
    "    else:\n",
    "        # Boxes are not overlapping, do not merge\n",
    "        return None"
   ]
  },
  {
   "cell_type": "code",
   "execution_count": null,
   "metadata": {},
   "outputs": [],
   "source": [
    "# def merge_bboxes(box1, box2):\n",
    "#     iou = bbox_iou(box1[np.newaxis, :], box2[np.newaxis, :])\n",
    "#     if iou < 0:\n",
    "#         # Boxes are not overlapping\n",
    "#         merged_box = [min(box1[0], box2[0]), min(box1[1], box2[1]), max(box1[2], box2[2]), max(box1[3], box2[3])]\n",
    "#         return merged_box\n",
    "#     else:\n",
    "#         # Boxes are overlapping, do not merge\n",
    "#         return None"
   ]
  },
  {
   "cell_type": "code",
   "execution_count": 56,
   "metadata": {},
   "outputs": [
    {
     "name": "stdout",
     "output_type": "stream",
     "text": [
      "boxes[0] [411 279 377 188]\n",
      "boxes[1] [ 31 295 360 165]\n"
     ]
    }
   ],
   "source": [
    "file_list = os.listdir(File_path)\n",
    "for file in file_list:\n",
    "    file_name = file.rsplit('.', 1)\n",
    "    input_img = os.path.join(File_path, file)\n",
    "    #  Load the saliency map\n",
    "    \n",
    "    saliency_map = cv2.imread(input_img, cv2.IMREAD_GRAYSCALE)\n",
    "\n",
    "    # print('saliency_map', saliency_map)\n",
    "\n",
    "    # Threshold the saliency map to obtain a binary mask\n",
    "    # print('before threshold', saliency_map)\n",
    "    threshold =  128  # adjust this threshold as needed\n",
    "    mask = (saliency_map > threshold).astype(np.uint8)\n",
    "    \n",
    "\n",
    "    kernel = np.ones((6,6),np.uint8)\n",
    "    mask = cv2.erode(mask,kernel,iterations=1)\n",
    "\n",
    "    # Find the connected components in the binary mask\n",
    "    components, labels = cv2.connectedComponents(mask)\n",
    "\n",
    "    # Initialize a list to store the bounding boxes and scores of each component\n",
    "    boxes = []\n",
    "    scores = []\n",
    "\n",
    "    # Loop over each component and compute its bounding box and score\n",
    "    for i in range(1, np.amax(components) + 1):\n",
    "        # Extract the binary mask for the current component\n",
    "        component_mask = (labels == i).astype(np.uint8)\n",
    "\n",
    "        # Compute the bounding box of the component\n",
    "        bbox = cv2.boundingRect(component_mask)\n",
    "\n",
    "        # Compute the score of the component as the maximum saliency value within the component\n",
    "        if np.count_nonzero(component_mask) > 0:\n",
    "            score = np.max(saliency_map[component_mask == 1])\n",
    "        else:\n",
    "            score = 0\n",
    "\n",
    "        # Append the bounding box and score to the list\n",
    "        boxes.append(bbox)\n",
    "        scores.append(score)\n",
    "\n",
    "    # Apply non-maximum suppression to the list of bounding boxes and scores\n",
    "    overlap_thresh = 0.5  # adjust this threshold as needed\n",
    "    scores = np.array(scores)\n",
    "    boxes = np.array(boxes)\n",
    "    selected_indices = []\n",
    "\n",
    "    # Flatten the scores array before performing argsort\n",
    "    order = scores.ravel().argsort()[::-1]\n",
    "    areas = (boxes[:, 2] * boxes[:, 3])\n",
    "\n",
    "    if np.any(areas == 0):\n",
    "        areas[areas == 0] = 1\n",
    "\n",
    "    # Loop over the indices in the order determined by the scores and compute the overlap of each bounding box with the previously selected bounding boxes\n",
    "    while order.size > 0:\n",
    "        # Select the bounding box with the highest score and add it to the list of selected boxes\n",
    "        i = order[0]\n",
    "        selected_indices.append(i)\n",
    "\n",
    "        # Compute the overlap of the selected bounding box with the other bounding boxes\n",
    "        xx1 = np.maximum(boxes[i, 0], boxes[order[1:], 0])\n",
    "        yy1 = np.maximum(boxes[i, 1], boxes[order[1:], 1])\n",
    "        xx2 = np.minimum(boxes[i, 0] + boxes[i, 2], boxes[order[1:], 0] + boxes[order[1:], 2])\n",
    "        yy2 = np.minimum(boxes[i, 1] + boxes[i, 3], boxes[order[1:], 1] + boxes[order[1:], 3])\n",
    "        w = np.maximum(0.0, xx2 - xx1 + 1)\n",
    "        h = np.maximum(0.0, yy2 - yy1 + 1)\n",
    "        overlap = (w * h) / areas[order[1:]]\n",
    "\n",
    "        # Remove bounding boxes with overlap greater than the overlap threshold\n",
    "        inds = np.where(overlap <= overlap_thresh)[0]\n",
    "        order = order[inds + 1]\n",
    "\n",
    "    # areas = (boxes[:, 2] - boxes[:, 0] + 1) * (boxes[:, 3] - boxes[:, 1] + 1)\n",
    "\n",
    "    # # Sort the boxes based on their area in descending order\n",
    "    # sorted_indices = np.argsort(areas)[::-1]\n",
    "    # sorted_boxes = boxes[sorted_indices]\n",
    "\n",
    "\n",
    "    # Loop over the selected bounding boxes and draw them on the image\n",
    "    img_rgb = cv2.cvtColor(saliency_map, cv2.COLOR_GRAY2RGB)\n",
    "    area = img_rgb[279:467, 31:768]\n",
    "    gray_roi = np.ones((188, 737), dtype=np.uint8)\n",
    "    white_roi = 255 - gray_roi\n",
    "    img_rgb[279:467, 31:768] = cv2.cvtColor(white_roi, cv2.COLOR_GRAY2BGR)\n",
    "    # for i in selected_indices:\n",
    "    #     x, y, w, h = boxes[i]\n",
    "    #     cv2.rectangle(img_rgb, (x, y), (x + w, y + h), (0, 255, 0), 1)\n",
    "\n",
    "    # combined_boxes = combine_bboxes(boxes[1], boxes[2])\n",
    "    # x, y, w, h = boxes[i]\n",
    "    # cv2.rectangle(img_rgb, (31, 279), (768, 467), (0, 255, 0), 1)\n",
    "\n",
    "    # print('combined boxes', combined_boxes)\n",
    "    print('boxes[0]', boxes[0])\n",
    "    print('boxes[1]', boxes[1])\n",
    "    # print('selected indices', selected_indices)\n",
    "    # print('sorted boxes', sorted_boxes)\n",
    "    save_im_final_nms_featureMap = save_path + '/' + file_name[0] + '.png'\n",
    "    cv2.imwrite(save_im_final_nms_featureMap, img_rgb)"
   ]
  }
 ],
 "metadata": {
  "kernelspec": {
   "display_name": "Python 3",
   "language": "python",
   "name": "python3"
  },
  "language_info": {
   "codemirror_mode": {
    "name": "ipython",
    "version": 3
   },
   "file_extension": ".py",
   "mimetype": "text/x-python",
   "name": "python",
   "nbconvert_exporter": "python",
   "pygments_lexer": "ipython3",
   "version": "3.10.6"
  },
  "orig_nbformat": 4,
  "vscode": {
   "interpreter": {
    "hash": "31f2aee4e71d21fbe5cf8b01ff0e069b9275f58929596ceb00d14d90e3e16cd6"
   }
  }
 },
 "nbformat": 4,
 "nbformat_minor": 2
}
