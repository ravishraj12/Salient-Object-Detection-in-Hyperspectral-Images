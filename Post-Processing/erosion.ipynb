{
 "cells": [
  {
   "cell_type": "code",
   "execution_count": 16,
   "metadata": {},
   "outputs": [],
   "source": [
    "# import math\n",
    "import numpy as np\n",
    "import scipy.spatial.distance\n",
    "import scipy.signal\n",
    "from skimage.segmentation import slic\n",
    "from skimage.util import img_as_float\n",
    "from scipy.optimize import minimize\n",
    "\n",
    "import os\n",
    "import scipy.io\n",
    "import cv2\n",
    "\n",
    "from skimage import io\n",
    "import itertools"
   ]
  },
  {
   "cell_type": "code",
   "execution_count": 17,
   "metadata": {},
   "outputs": [
    {
     "name": "stdout",
     "output_type": "stream",
     "text": [
      "HS_files ['0001.png', '0002.png', '0006.png', '0008.png', '0009.png', '0010.png', '0012.png', '0014.png', '0015.png', '0016.png', '0017.png', '0018.png', '0019.png', '0020.png', '0021.png', '0022.png', '0024.png', '0026.png', '0027.png', '0028.png', '0029.png', '0031.png', '0032.png', '0033.png', '0034.png', '0036.png', '0037.png', '0038.png', '0039.png', '0040.png', '0041.png', '0042.png', '0043.png', '0044.png', '0045.png', '0046.png', '0047.png', '0050.png', '0051.png', '0052.png', '0053.png', '0054.png', '0056.png', '0058.png', '0061.png', '0062.png', '0063.png', '0064.png', '0065.png', '0068.png', '0069.png', '0070.png', '0071.png', '0072.png', '0074.png', '0076.png', '0077.png', '0078.png', '0079.png', '0082.png']\n"
     ]
    }
   ],
   "source": [
    "File_path = '/home/nitk/Desktop/Raj_M.Tech_Project/Approach5/Output_Image_Dataset/Location_Appended_Images/final_featureMap/Exp-3'\n",
    "HS_files = sorted(os.listdir(File_path))\n",
    "print(\"HS_files\", HS_files)\n",
    "# num = 0;\n",
    "save_path = '/home/nitk/Desktop/Raj_M.Tech_Project/Approach5/Output_Image_Dataset/Location_Appended_Images'"
   ]
  },
  {
   "cell_type": "code",
   "execution_count": 18,
   "metadata": {},
   "outputs": [],
   "source": [
    "def mkdir(dir_path):\n",
    "    if not os.path.exists(dir_path):\n",
    "        os.makedirs(dir_path)"
   ]
  },
  {
   "cell_type": "code",
   "execution_count": 19,
   "metadata": {},
   "outputs": [],
   "source": [
    "im_eroded_featureMap_path = os.path.join(save_path, 'Erode_Output')\n",
    "mkdir(im_eroded_featureMap_path)"
   ]
  },
  {
   "cell_type": "code",
   "execution_count": 20,
   "metadata": {},
   "outputs": [],
   "source": [
    "for file in HS_files:\n",
    "  input_img = os.path.join(File_path, file)\n",
    "\n",
    "  img = cv2.imread(input_img)\n",
    "  # print('img shape', img.shape)\n",
    "\n",
    "  file = file.rsplit('.', 1)\n",
    "  numpydata_in = np.array(img)\n",
    "  numpydata_in = np.mean(numpydata_in, axis = 2)\n",
    "  numpydata_in = numpydata_in.astype('uint8')\n",
    "  #numpydata_in = cv2.medianBlur(numpydata_in,)\n",
    "  # kernel = np.ones((12,12),np.uint8)\n",
    "  # numpydata_in = cv2.erode(numpydata_in,kernel,iterations=1)\n",
    "\n",
    "  kernel_dil = np.ones((12, 12),np.uint8)\n",
    "  numpydata_in = cv2.dilate(numpydata_in, kernel_dil, iterations =1)\n",
    "\n",
    "  save_im_eroded_featureMap = im_eroded_featureMap_path + '/' + file[0] + '.png'\n",
    "  cv2.imwrite(save_im_eroded_featureMap, numpydata_in)"
   ]
  }
 ],
 "metadata": {
  "kernelspec": {
   "display_name": "Python 3",
   "language": "python",
   "name": "python3"
  },
  "language_info": {
   "codemirror_mode": {
    "name": "ipython",
    "version": 3
   },
   "file_extension": ".py",
   "mimetype": "text/x-python",
   "name": "python",
   "nbconvert_exporter": "python",
   "pygments_lexer": "ipython3",
   "version": "3.10.6"
  },
  "orig_nbformat": 4,
  "vscode": {
   "interpreter": {
    "hash": "31f2aee4e71d21fbe5cf8b01ff0e069b9275f58929596ceb00d14d90e3e16cd6"
   }
  }
 },
 "nbformat": 4,
 "nbformat_minor": 2
}
