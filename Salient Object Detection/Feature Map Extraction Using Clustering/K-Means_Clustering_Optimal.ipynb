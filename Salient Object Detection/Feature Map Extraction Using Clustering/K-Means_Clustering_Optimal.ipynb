{
 "cells": [
  {
   "cell_type": "code",
   "execution_count": 284,
   "metadata": {},
   "outputs": [],
   "source": [
    "import h5py\n",
    "import os\n",
    "import cv2\n",
    "import numpy as np\n",
    "import scipy.spatial.distance\n",
    "import scipy.io\n",
    "# import mat73\n",
    "import glob\n",
    "from skimage import io\n",
    "from sklearn.cluster import KMeans\n",
    "from numpy import moveaxis"
   ]
  },
  {
   "cell_type": "code",
   "execution_count": 285,
   "metadata": {},
   "outputs": [
    {
     "name": "stdout",
     "output_type": "stream",
     "text": [
      "HS_files ['0001.mat']\n"
     ]
    }
   ],
   "source": [
    "File_path = '/home/cse/Desktop/Raj_M.Tech_Project/Approach4/Output_Image_Dataset/MNF/Input_For_Pixel_Replace/HS_Images_10_Output'\n",
    "HS_files = sorted(os.listdir(File_path))\n",
    "print(\"HS_files\", HS_files)\n",
    "save_path = '/home/cse/Desktop/Raj_M.Tech_Project/Approach4/Output_Image_Dataset/MNF/Final_Output_Pixel_Replace'"
   ]
  },
  {
   "cell_type": "code",
   "execution_count": 286,
   "metadata": {},
   "outputs": [],
   "source": [
    "# def create_dict(temp_dict, dict_size):\n",
    "# # dict_size = 10\n",
    "#   # temp_dict = {}\n",
    "#   for i in range(dict_size):\n",
    "#     temp_dict.update({i: list()})\n",
    "#   return temp_dict"
   ]
  },
  {
   "cell_type": "code",
   "execution_count": 287,
   "metadata": {},
   "outputs": [],
   "source": [
    "number_of_clusters = 10"
   ]
  },
  {
   "cell_type": "code",
   "execution_count": 288,
   "metadata": {},
   "outputs": [],
   "source": [
    "# dict_size = 10Location_Appended_Gaussian_Results\n",
    "# pixel_values = create_dict({}, dict_size)\n",
    "# cluster_means = create_dict({}, dict_size)"
   ]
  },
  {
   "cell_type": "code",
   "execution_count": 289,
   "metadata": {},
   "outputs": [],
   "source": [
    "# print('pixel values', pixel_values)\n",
    "# print('cluster means', cluster_means)"
   ]
  },
  {
   "cell_type": "code",
   "execution_count": 290,
   "metadata": {},
   "outputs": [],
   "source": [
    "def mkdir(dir_path):\n",
    "    if not os.path.exists(dir_path):\n",
    "        os.makedirs(dir_path)"
   ]
  },
  {
   "cell_type": "code",
   "execution_count": 291,
   "metadata": {},
   "outputs": [],
   "source": [
    "im_final_images_path = os.path.join(save_path, 'Location_Appended_10_Channel_Results')\n",
    "mkdir(im_final_images_path)"
   ]
  },
  {
   "cell_type": "code",
   "execution_count": 292,
   "metadata": {},
   "outputs": [],
   "source": [
    "def find_euclidean_distance(mean_list):\n",
    "    dist = 0\n",
    "    # print('len of mean_list', len(mean_list))\n",
    "    # clus_dist = []\n",
    "    euc_dist = []\n",
    "    for i in range(len(mean_list)):\n",
    "        for j in range(len(mean_list)):\n",
    "            # for k in range(len(mean_list[i])):\n",
    "                # print('i-j', mean_list[i][j][0])\n",
    "                # print('i-k', mean_list[i][k][0])\n",
    "            dist += scipy.spatial.distance.euclidean(mean_list[i], mean_list[j])\n",
    "                # dist += np.linalg.norm(mean_list[i][j][0] - mean_list[i][k][0])\n",
    "        euc_dist.append(dist)\n",
    "        dist = 0\n",
    "\n",
    "        # euc_dist.append(clus_dist)\n",
    "        # clus_dist = []\n",
    "\n",
    "    return euc_dist"
   ]
  },
  {
   "cell_type": "code",
   "execution_count": 293,
   "metadata": {},
   "outputs": [],
   "source": [
    "# def find_euclidean_distance_using(centers):\n",
    "#     euc_dist = []\n",
    "\n",
    "#     return euc_dist"
   ]
  },
  {
   "cell_type": "code",
   "execution_count": 294,
   "metadata": {},
   "outputs": [],
   "source": [
    "def build_image_using_labelling(labels, euc_dist):\n",
    "    # euc_dist = np.asarray(euc_dist)\n",
    "    # for label in range(euc_dist_ind, len(euc_dist)):\n",
    "    for k in range(0, len(euc_dist)):\n",
    "        for i in range(labels.shape[0]):\n",
    "            for j in range(labels.shape[1]):\n",
    "            \n",
    "                # p = k\n",
    "                if labels[i][j] == k:\n",
    "                    labels[i][j] = euc_dist[k]\n",
    "                        # print('euc_dist[label][k]', euc_dist[label][k])\n",
    "                    break\n",
    "    \n",
    "    max_pixel_val = np.max(labels)\n",
    "    labels = labels/max_pixel_val\n",
    "    labels = labels * 255\n",
    "    \n",
    "    return labels"
   ]
  },
  {
   "cell_type": "code",
   "execution_count": 295,
   "metadata": {},
   "outputs": [],
   "source": [
    "# def build_image(file_name, labels, clusters_ind, euc_dist_ind, mean_list, euc_dist):\n",
    "#     for clusters in range(clusters_ind, len(mean_list), 1):\n",
    "#         for label, mean in mean_list[clusters].items():\n",
    "#             if np.mean(mean[0]) != 0:\n",
    "#                 for i in range(labels.shape[0]):\n",
    "#                     for j in range(labels.shape[1]):\n",
    "#                         # print(img[i][j])\n",
    "#                         if label == labels[i][j]:\n",
    "#                         # print(1)\n",
    "#                     #   print(euc_dist[clusters])\n",
    "#                             labels[i][j] = euc_dist[clusters][euc_dist_ind]\n",
    "#                 euc_dist_ind += 1\n",
    "#                 # print('If euc_dist_ind', euc_dist_ind)\n",
    "      \n",
    "#             else:\n",
    "#                 euc_dist_ind += 1\n",
    "#                 # print('Else euc_dist_ind', euc_dist_ind)\n",
    "#                 continue\n",
    "#         euc_dist_ind = 0\n",
    "  \n",
    "#         # clusters += 1\n",
    "#         # img = cv2.rotate(img, cv2.ROTATE_90_CLOCKWISE)\n",
    "#         # img = cv2.flip(img, 1)\n",
    "    \n",
    "#         max_pixel_val = np.max(labels)\n",
    "#         labels = labels/max_pixel_val\n",
    "#         labels = labels * 255\n",
    "\n",
    "#         # kernel = np.ones((9, 9), np.uint8)\n",
    "#         # img = cv2.morphologyEx(img, cv2.MORPH_CLOSE, kernel)\n",
    "\n",
    "#         save_im_final_featureMap = im_final_images_path + '/' + file_name + '.png'\n",
    "#         cv2.imwrite(save_im_final_featureMap, labels)\n",
    "\n",
    "#         break\n",
    "#     return"
   ]
  },
  {
   "cell_type": "code",
   "execution_count": 296,
   "metadata": {},
   "outputs": [],
   "source": [
    "# def print_labels(labels):\n",
    "#     for row in labels:\n",
    "#         print(' '.join([str(elem) for elem in row]))"
   ]
  },
  {
   "cell_type": "code",
   "execution_count": 297,
   "metadata": {},
   "outputs": [
    {
     "name": "stdout",
     "output_type": "stream",
     "text": [
      "img shape (768, 1024)\n",
      "!!!!!!!!! Image saved successfully !!!!!!!!!!\n"
     ]
    }
   ],
   "source": [
    "\n",
    "for file in HS_files:\n",
    "  num = 0\n",
    "  mean_list = []\n",
    "  euc_dist_ind = 0\n",
    "  clusters_ind = -1\n",
    "  pixel_values = []\n",
    "  cluster_means = []\n",
    "# dist = 0\n",
    "# clus_dist = []\n",
    "  euc_dist = []\n",
    "  input_img = os.path.join(File_path, file)\n",
    "  # print(\"Reading File[%d/%d]: %s\" % (num, len(HS_files), input_img))\n",
    "  # print(\"file name\", file)\n",
    "  mat_dict = scipy.io.loadmat(input_img)\n",
    "  for key in mat_dict:\n",
    "    if type(mat_dict[key]) is np.ndarray:\n",
    "    # print(type(mat_dict[key]))\n",
    "    # if type(mat_dict[key]) is h5py._hl.dataset.Dataset:\n",
    "      image_data = mat_dict[key]  #type: np.ndarray\n",
    "\n",
    "  \n",
    "  # print(\"image data shape before axis move:\", image_data.shape)\n",
    "  #image_data = np.swapaxes(image_data, 0, 2)\n",
    "  # image_data = np.swapaxes(image_data, 0, 1)\n",
    "  image_data = np.moveaxis(image_data, 0, 1)\n",
    "  # image_data = np.moveaxis(image_data, 0, 1)\n",
    "  # image_data = np.moveaxis(image_data, 0, 2)\n",
    "\n",
    "  # print(\"image data after axis move:\", image_data.shape)\n",
    "\n",
    "  img = image_data.reshape((-1, 11))\n",
    "  img = np.float32(img)\n",
    "  criteria = (cv2.TERM_CRITERIA_EPS + cv2.TERM_CRITERIA_MAX_ITER, 100, 1.0)\n",
    "  ret, labels, centers = cv2.kmeans(img, number_of_clusters, None, criteria, 10, cv2.KMEANS_PP_CENTERS)\n",
    "\n",
    "  # print('centers', centers)\n",
    "  # print('labels dimension before flattening', labels.shape)\n",
    "  labels = labels.flatten()\n",
    "  labels = labels.reshape(768, 1024)\n",
    "  # print('labels dimension after flattening', labels.shape)\n",
    "\n",
    "  # print_labels(labels)\n",
    "\n",
    "  file = file.rsplit('.', 1)\n",
    "\n",
    "  for k in range(0,10):\n",
    "    pixel_values = []\n",
    "    cluster_mean = []\n",
    "    for i in range(labels.shape[0]):\n",
    "      for j in range(labels.shape[1]):\n",
    "        if (labels[i][j] == k):\n",
    "          pixel_values.append(image_data[i][j][:])\n",
    "    cluster_mean = np.mean(pixel_values, axis = 0)\n",
    "\n",
    "    cluster_means.append(cluster_mean)\n",
    "\n",
    "  # Function Call for Euclidean Distance Calculation\n",
    "  euc_dist = find_euclidean_distance(cluster_means)\n",
    "\n",
    "  # euc_dist = find_euclidean_distance(centers)\n",
    "\n",
    "  img = build_image_using_labelling(labels, euc_dist)\n",
    "  # print('img', img)\n",
    "  # print('img shape', img.shape)\n",
    "\n",
    "  save_im_final_featureMap = im_final_images_path + '/' + file[0] + '.png'\n",
    "  cv2.imwrite(save_im_final_featureMap, img)\n",
    "\n",
    "print('!!!!!!!!! Image saved successfully !!!!!!!!!!')"
   ]
  }
 ],
 "metadata": {
  "kernelspec": {
   "display_name": "Python 3",
   "language": "python",
   "name": "python3"
  },
  "language_info": {
   "codemirror_mode": {
    "name": "ipython",
    "version": 3
   },
   "file_extension": ".py",
   "mimetype": "text/x-python",
   "name": "python",
   "nbconvert_exporter": "python",
   "pygments_lexer": "ipython3",
   "version": "3.6.9"
  },
  "orig_nbformat": 4,
  "vscode": {
   "interpreter": {
    "hash": "31f2aee4e71d21fbe5cf8b01ff0e069b9275f58929596ceb00d14d90e3e16cd6"
   }
  }
 },
 "nbformat": 4,
 "nbformat_minor": 2
}
