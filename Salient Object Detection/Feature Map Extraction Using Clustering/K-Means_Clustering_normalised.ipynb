{
 "cells": [
  {
   "cell_type": "code",
   "execution_count": 47,
   "metadata": {},
   "outputs": [],
   "source": [
    "import h5py\n",
    "import os\n",
    "import cv2\n",
    "import numpy as np\n",
    "import scipy.spatial.distance\n",
    "import scipy.io\n",
    "# import mat73\n",
    "\n",
    "from skimage import io\n",
    "from sklearn.cluster import KMeans\n",
    "# from pandas import DataFrame"
   ]
  },
  {
   "cell_type": "code",
   "execution_count": 48,
   "metadata": {},
   "outputs": [
    {
     "name": "stdout",
     "output_type": "stream",
     "text": [
      "HS_files ['0062.mat', '0018.mat', '0076.mat', '0050.mat', '0046.mat', '0058.mat', '0039.mat', '0052.mat', '0006.mat', '0061.mat', '0022.mat', '0028.mat', '0056.mat', '0038.mat', '0079.mat', '0036.mat', '0034.mat', '0042.mat', '0024.mat', '0077.mat', '0070.mat', '0029.mat', '0019.mat', '0064.mat', '0054.mat', '0014.mat', '0002.mat', '0041.mat', '0010.mat', '0037.mat', '0008.mat', '0063.mat', '0021.mat', '0040.mat', '0051.mat', '0027.mat', '0017.mat', '0078.mat', '0020.mat', '0043.mat', '0069.mat', '0033.mat', '0016.mat', '0047.mat', '0044.mat', '0001.mat', '0009.mat', '0031.mat', '0012.mat', '0065.mat', '0032.mat', '0068.mat', '0045.mat', '0053.mat', '0015.mat', '0074.mat', '0082.mat', '0072.mat', '0026.mat', '0071.mat']\n"
     ]
    }
   ],
   "source": [
    "File_path = '/home/cse/Desktop/Raj_M.Tech_Project/Raj/HS_images_5'\n",
    "HS_files = os.listdir(File_path)\n",
    "print(\"HS_files\", HS_files)\n",
    "save_path = '/home/cse/Desktop/Raj_M.Tech_Project/Raj/HS_Results'"
   ]
  },
  {
   "cell_type": "code",
   "execution_count": 49,
   "metadata": {},
   "outputs": [],
   "source": [
    "def create_dict(temp_dict, dict_size):\n",
    "# dict_size = 10\n",
    "  # temp_dict = {}\n",
    "  for i in range(dict_size):\n",
    "    temp_dict.update({i: list()})\n",
    "  return temp_dict"
   ]
  },
  {
   "cell_type": "code",
   "execution_count": 50,
   "metadata": {},
   "outputs": [],
   "source": [
    "number_of_clusters = 30"
   ]
  },
  {
   "cell_type": "code",
   "execution_count": 51,
   "metadata": {},
   "outputs": [],
   "source": [
    "dict_size = 30\n",
    "pixel_values = create_dict({}, dict_size)\n",
    "cluster_means = create_dict({}, dict_size)\n",
    "mean_list = []"
   ]
  },
  {
   "cell_type": "code",
   "execution_count": 52,
   "metadata": {},
   "outputs": [
    {
     "name": "stdout",
     "output_type": "stream",
     "text": [
      "pixel values {0: [], 1: [], 2: [], 3: [], 4: [], 5: [], 6: [], 7: [], 8: [], 9: [], 10: [], 11: [], 12: [], 13: [], 14: [], 15: [], 16: [], 17: [], 18: [], 19: [], 20: [], 21: [], 22: [], 23: [], 24: [], 25: [], 26: [], 27: [], 28: [], 29: []}\n",
      "cluster means {0: [], 1: [], 2: [], 3: [], 4: [], 5: [], 6: [], 7: [], 8: [], 9: [], 10: [], 11: [], 12: [], 13: [], 14: [], 15: [], 16: [], 17: [], 18: [], 19: [], 20: [], 21: [], 22: [], 23: [], 24: [], 25: [], 26: [], 27: [], 28: [], 29: []}\n"
     ]
    }
   ],
   "source": [
    "print('pixel values', pixel_values)\n",
    "print('cluster means', cluster_means)"
   ]
  },
  {
   "cell_type": "code",
   "execution_count": 53,
   "metadata": {},
   "outputs": [],
   "source": [
    "def mkdir(dir_path):\n",
    "    if not os.path.exists(dir_path):\n",
    "        os.makedirs(dir_path)"
   ]
  },
  {
   "cell_type": "code",
   "execution_count": 54,
   "metadata": {},
   "outputs": [],
   "source": [
    "im_labelled_images_path = os.path.join(save_path, 'labelled_images')\n",
    "mkdir(im_labelled_images_path)"
   ]
  },
  {
   "cell_type": "code",
   "execution_count": 1,
   "metadata": {},
   "outputs": [
    {
     "ename": "NameError",
     "evalue": "name 'HS_files' is not defined",
     "output_type": "error",
     "traceback": [
      "\u001b[0;31m---------------------------------------------------------------------------\u001b[0m",
      "\u001b[0;31mNameError\u001b[0m                                 Traceback (most recent call last)",
      "\u001b[0;32m<ipython-input-1-95b4e3777cbe>\u001b[0m in \u001b[0;36m<module>\u001b[0;34m\u001b[0m\n\u001b[1;32m      1\u001b[0m \u001b[0mnum\u001b[0m \u001b[0;34m=\u001b[0m \u001b[0;36m0\u001b[0m\u001b[0;34m\u001b[0m\u001b[0;34m\u001b[0m\u001b[0m\n\u001b[0;32m----> 2\u001b[0;31m \u001b[0;32mfor\u001b[0m \u001b[0mfile\u001b[0m \u001b[0;32min\u001b[0m \u001b[0mHS_files\u001b[0m\u001b[0;34m:\u001b[0m\u001b[0;34m\u001b[0m\u001b[0;34m\u001b[0m\u001b[0m\n\u001b[0m\u001b[1;32m      3\u001b[0m   \u001b[0minput_img\u001b[0m \u001b[0;34m=\u001b[0m \u001b[0mos\u001b[0m\u001b[0;34m.\u001b[0m\u001b[0mpath\u001b[0m\u001b[0;34m.\u001b[0m\u001b[0mjoin\u001b[0m\u001b[0;34m(\u001b[0m\u001b[0mFile_path\u001b[0m\u001b[0;34m,\u001b[0m \u001b[0mfile\u001b[0m\u001b[0;34m)\u001b[0m\u001b[0;34m\u001b[0m\u001b[0;34m\u001b[0m\u001b[0m\n\u001b[1;32m      4\u001b[0m   \u001b[0;31m# print(\"Reading File[%d/%d]: %s\" % (num, len(HS_files), input_img))\u001b[0m\u001b[0;34m\u001b[0m\u001b[0;34m\u001b[0m\u001b[0;34m\u001b[0m\u001b[0m\n\u001b[1;32m      5\u001b[0m   \u001b[0;31m# print(\"file name\", file)\u001b[0m\u001b[0;34m\u001b[0m\u001b[0;34m\u001b[0m\u001b[0;34m\u001b[0m\u001b[0m\n",
      "\u001b[0;31mNameError\u001b[0m: name 'HS_files' is not defined"
     ]
    }
   ],
   "source": [
    "num = 0\n",
    "for file in HS_files:\n",
    "  input_img = os.path.join(File_path, file)\n",
    "  # print(\"Reading File[%d/%d]: %s\" % (num, len(HS_files), input_img))\n",
    "  # print(\"file name\", file)\n",
    "  mat_dict = scipy.io.loadmat(input_img)\n",
    "  for key in mat_dict:\n",
    "    if type(mat_dict[key]) is np.ndarray:\n",
    "      image_data = mat_dict[key]  #type: np.ndarray\n",
    "  \n",
    "  print(\"image data shape before axis move:\", image_data.shape)\n",
    "  image_data = np.moveaxis(image_data, 0, 1)\n",
    "  # image_data = np.moveaxis(image_data, 0, 1)\n",
    "  # image_data = np.swapaxes(image_data, 0, 1)\n",
    "\n",
    "  print(\"image data after axis move:\", image_data.shape)\n",
    "\n",
    "#   img = image_data.reshape((-1, 5))\n",
    "#   img = np.float32(img)\n",
    "#   criteria = (cv2.TERM_CRITERIA_EPS + cv2.TERM_CRITERIA_MAX_ITER, 100, 0.2)\n",
    "#   ret, labels, centers = cv2.kmeans(img, number_of_clusters, None, criteria, 10, cv2.KMEANS_RANDOM_CENTERS)\n",
    "#   labels = labels.flatten()\n",
    "#   labels = labels.reshape(1024, 768)\n",
    "#   file = file.rsplit('.', 1)\n",
    "\n",
    "#   for i in range(labels.shape[0]):\n",
    "#     for j in range(labels.shape[1]):\n",
    "#       label = labels[i][j]\n",
    "#       pixel_values[label].append(image_data[i][j][:])\n",
    "\n",
    "#   for label in pixel_values:\n",
    "#     channel_mean = np.mean(pixel_values[label], axis = 0)\n",
    "#     cluster_means[label].append(channel_mean)\n",
    "\n",
    "#   labels = cv2.rotate(labels, cv2.ROTATE_90_CLOCKWISE)\n",
    "#   labels = cv2.flip(labels, 1)\n",
    "#   save_im_labelled_images = im_labelled_images_path + '/' + file[0] + '.png'\n",
    "#   cv2.imwrite(save_im_labelled_images, labels)\n",
    "\n",
    "#   mean_list.append(cluster_means)\n",
    "#   pixel_values = dict((k, list()) for k in pixel_values)\n",
    "#   cluster_means = dict((k, list()) for k in cluster_means)\n",
    "\n",
    "# print('!!!!!! Cluster Mean Calculated Successfully !!!!!!')"
   ]
  },
  {
   "cell_type": "code",
   "execution_count": null,
   "metadata": {},
   "outputs": [],
   "source": [
    "# print(mean_list)"
   ]
  },
  {
   "cell_type": "code",
   "execution_count": null,
   "metadata": {},
   "outputs": [],
   "source": [
    "# print(labels)"
   ]
  },
  {
   "cell_type": "code",
   "execution_count": null,
   "metadata": {},
   "outputs": [],
   "source": [
    "# for item in mean_list:\n",
    "#   # print(item)\n",
    "#   for val in item.values():\n",
    "#     # print(val)\n",
    "#     for ele in val:\n",
    "#       if isinstance(ele, float):\n",
    "#         val[0] = [0]"
   ]
  },
  {
   "cell_type": "code",
   "execution_count": 35,
   "metadata": {},
   "outputs": [
    {
     "name": "stdout",
     "output_type": "stream",
     "text": [
      "!!!!!! Euclidean Distance Calculated Successfully !!!!!!\n"
     ]
    }
   ],
   "source": [
    "dist = 0\n",
    "clus_dist = []\n",
    "euc_dist = []\n",
    "for i in range(len(mean_list)):\n",
    "  for j in range(len(mean_list[i])):\n",
    "    for k in range(len(mean_list[i])):\n",
    "      # print('i-j', mean_list[i][j][0])\n",
    "      # print('i-k', mean_list[i][k][0])\n",
    "      dist += scipy.spatial.distance.euclidean(mean_list[i][j][:], mean_list[i][k][:])\n",
    "      # dist += np.linalg.norm(mean_list[i][j][0] - mean_list[i][k][0])\n",
    "    clus_dist.append(dist)\n",
    "    dist = 0\n",
    "\n",
    "  euc_dist.append(clus_dist)\n",
    "  clus_dist = []\n",
    "\n",
    "print('!!!!!! Euclidean Distance Calculated Successfully !!!!!!')"
   ]
  },
  {
   "cell_type": "code",
   "execution_count": 24,
   "metadata": {},
   "outputs": [],
   "source": [
    "# print(euc_dist)"
   ]
  },
  {
   "cell_type": "code",
   "execution_count": 36,
   "metadata": {},
   "outputs": [
    {
     "name": "stdout",
     "output_type": "stream",
     "text": [
      "HS_files_labelled_images ['0001.png', '0002.png', '0006.png', '0008.png', '0009.png', '0010.png', '0012.png', '0014.png', '0015.png', '0016.png', '0017.png', '0018.png', '0019.png', '0020.png', '0021.png', '0022.png', '0024.png', '0026.png', '0027.png', '0028.png', '0029.png', '0031.png', '0032.png', '0033.png', '0034.png', '0036.png', '0037.png', '0038.png', '0039.png', '0040.png', '0041.png', '0042.png', '0043.png', '0044.png', '0045.png', '0046.png', '0047.png', '0050.png', '0051.png', '0052.png', '0053.png', '0054.png', '0056.png', '0058.png', '0061.png', '0062.png', '0063.png', '0064.png', '0065.png', '0068.png', '0069.png', '0070.png', '0071.png', '0072.png', '0074.png', '0076.png', '0077.png', '0078.png', '0079.png', '0082.png']\n",
      "!!!!!!!!! Image saved successfully !!!!!!!!!!\n"
     ]
    }
   ],
   "source": [
    "# mean_list_ind = 0\n",
    "euc_dist_ind = 0\n",
    "clusters_ind = -1\n",
    "\n",
    "File_path_labelled_images = '/home/cse/Desktop/Raj_M.Tech_Project/Raj/HS_Results/labelled_images'\n",
    "HS_files_labelled_images = sorted(os.listdir(File_path_labelled_images))\n",
    "print(\"HS_files_labelled_images\", HS_files_labelled_images)\n",
    "\n",
    "save_path = '/home/cse/Desktop/Raj_M.Tech_Project/Raj/HS_Results/Together'\n",
    "im_final_segmented_images = os.path.join(save_path, 'Final_Images')\n",
    "mkdir(im_final_segmented_images)\n",
    "\n",
    "for labelled_images in HS_files_labelled_images:\n",
    "  file = labelled_images.rsplit('.', 1)\n",
    "  input_labelled_images = os.path.join(File_path_labelled_images, labelled_images)\n",
    "  img = cv2.imread(input_labelled_images)\n",
    "  # print('Image before channel removal', img.shape)\n",
    "  img = np.max(img, axis = 2)\n",
    "  # print('Image after channel removal', img.shape)\n",
    "  # print('Image shape[0]', img.shape[0])\n",
    "  # print('Image shape[1]', img.shape[1])\n",
    "  \n",
    "  clusters_ind += 1\n",
    "  for clusters in range(clusters_ind, len(mean_list), 1):\n",
    "    for label, mean in mean_list[clusters].items():\n",
    "      if np.mean(mean[0]) != 0:\n",
    "        for i in range(img.shape[0]):\n",
    "          for j in range(img.shape[1]):\n",
    "            # print(img[i][j])\n",
    "            if label == img[i][j]:\n",
    "              # print(1)\n",
    "            #   print(euc_dist[clusters])\n",
    "              img[i][j] = euc_dist[clusters][euc_dist_ind]\n",
    "        euc_dist_ind += 1\n",
    "        # print('If euc_dist_ind', euc_dist_ind)\n",
    "      \n",
    "      else:\n",
    "        euc_dist_ind += 1\n",
    "        # print('Else euc_dist_ind', euc_dist_ind)\n",
    "        continue\n",
    "    euc_dist_ind = 0\n",
    "  \n",
    "    # clusters += 1\n",
    "    # img = cv2.rotate(img, cv2.ROTATE_90_CLOCKWISE)\n",
    "    # img = cv2.flip(img, 1)\n",
    "    \n",
    "    max_pixel_val = np.max(img)\n",
    "    img = img/max_pixel_val\n",
    "    img = img * 255\n",
    "\n",
    "    # kernel = np.ones((9, 9), np.uint8)\n",
    "    # img = cv2.morphologyEx(img, cv2.MORPH_CLOSE, kernel)\n",
    "\n",
    "    save_im_final_featureMap = im_final_segmented_images + '/' + file[0] + '.png'\n",
    "    cv2.imwrite(save_im_final_featureMap, img)\n",
    "    break\n",
    "\n",
    "  # save_im_fdict_size = 5inal_featureMap = im_final_segmented_images + '/' + file[0] + '.png'\n",
    "  # cv2.imwrite(save_im_final_featureMap, img)\n",
    "\n",
    "print('!!!!!!!!! Image saved successfully !!!!!!!!!!')"
   ]
  }
 ],
 "metadata": {
  "kernelspec": {
   "display_name": "Python 3",
   "language": "python",
   "name": "python3"
  },
  "language_info": {
   "codemirror_mode": {
    "name": "ipython",
    "version": 3
   },
   "file_extension": ".py",
   "mimetype": "text/x-python",
   "name": "python",
   "nbconvert_exporter": "python",
   "pygments_lexer": "ipython3",
   "version": "3.6.9"
  },
  "orig_nbformat": 4,
  "vscode": {
   "interpreter": {
    "hash": "31f2aee4e71d21fbe5cf8b01ff0e069b9275f58929596ceb00d14d90e3e16cd6"
   }
  }
 },
 "nbformat": 4,
 "nbformat_minor": 2
}
