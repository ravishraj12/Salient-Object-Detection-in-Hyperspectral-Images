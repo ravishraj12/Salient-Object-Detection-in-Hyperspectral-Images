{
 "cells": [
  {
   "cell_type": "code",
   "execution_count": 42,
   "metadata": {},
   "outputs": [],
   "source": [
    "import h5py\n",
    "import os\n",
    "import cv2\n",
    "import numpy as np\n",
    "import scipy.spatial.distance\n",
    "import scipy.io\n",
    "\n",
    "from skimage import io \n",
    "from sklearn.cluster import KMeans"
   ]
  },
  {
   "cell_type": "code",
   "execution_count": 43,
   "metadata": {},
   "outputs": [
    {
     "name": "stdout",
     "output_type": "stream",
     "text": [
      "HS_files ['0006.mat', '0002.mat', '0001.mat']\n"
     ]
    }
   ],
   "source": [
    "File_path = '/home/cse/Desktop/Raj_M.Tech_Project/Approach4/HS_Results/Together/location_appended_images'\n",
    "HS_files = os.listdir(File_path)\n",
    "print(\"HS_files\", HS_files)\n",
    "save_path = '/home/cse/Desktop/Raj_M.Tech_Project/Approach4/HS_Results/Together'"
   ]
  },
  {
   "cell_type": "code",
   "execution_count": 44,
   "metadata": {},
   "outputs": [],
   "source": [
    "def create_dict(temp_dict, dict_size):\n",
    "# dict_size = 10\n",
    "  # temp_dict = {}\n",
    "  for i in range(dict_size):\n",
    "    temp_dict.update({i: list()})\n",
    "  return temp_dict"
   ]
  },
  {
   "cell_type": "code",
   "execution_count": 45,
   "metadata": {},
   "outputs": [],
   "source": [
    "number_of_clusters = 3"
   ]
  },
  {
   "cell_type": "code",
   "execution_count": 46,
   "metadata": {},
   "outputs": [],
   "source": [
    "dict_size = 3\n",
    "pixel_values = create_dict({}, dict_size)\n",
    "cluster_means = create_dict({}, dict_size)\n",
    "mean_list = []"
   ]
  },
  {
   "cell_type": "code",
   "execution_count": 47,
   "metadata": {},
   "outputs": [
    {
     "name": "stdout",
     "output_type": "stream",
     "text": [
      "pixel values {0: [], 1: [], 2: []}\n",
      "cluster means {0: [], 1: [], 2: []}\n"
     ]
    }
   ],
   "source": [
    "print('pixel values', pixel_values)\n",
    "print('cluster means', cluster_means)"
   ]
  },
  {
   "cell_type": "code",
   "execution_count": 48,
   "metadata": {},
   "outputs": [],
   "source": [
    "def mkdir(dir_path):\n",
    "    if not os.path.exists(dir_path):\n",
    "        os.makedirs(dir_path)"
   ]
  },
  {
   "cell_type": "code",
   "execution_count": 49,
   "metadata": {},
   "outputs": [],
   "source": [
    "im_labelled_images_path = os.path.join(save_path, 'location_appended_results')\n",
    "mkdir(im_labelled_images_path)"
   ]
  },
  {
   "cell_type": "code",
   "execution_count": 50,
   "metadata": {},
   "outputs": [
    {
     "name": "stdout",
     "output_type": "stream",
     "text": [
      "image data shape before axis move: (1024, 768, 83)\n",
      "image data shape before axis move: (1024, 768, 83)\n",
      "image data shape before axis move: (1024, 768, 83)\n",
      "!!!!!! Cluster Mean Calculated Successfully !!!!!!\n"
     ]
    }
   ],
   "source": [
    "num = 0\n",
    "for file in HS_files:\n",
    "  input_img = os.path.join(File_path, file)\n",
    "  # print(\"Reading File[%d/%d]: %s\" % (num, len(HS_files), input_img))\n",
    "  # print(\"file name\", file)\n",
    "  mat_dict = scipy.io.loadmat(input_img)\n",
    "  for key in mat_dict:\n",
    "    if type(mat_dict[key]) is np.ndarray:\n",
    "      image_data = mat_dict[key]  #type: np.ndarray\n",
    "  \n",
    "  print(\"image data shape before axis move:\", image_data.shape)\n",
    "  # image_data = np.moveaxis(image_data, 0, 2)\n",
    "  # image_data = np.moveaxis(image_data, 0, 1)\n",
    "\n",
    "  # print(\"image data after axis move:\", image_data.shape)\n",
    "\n",
    "  img = image_data.reshape((-1, 83))\n",
    "  img = np.float32(img)\n",
    "  criteria = (cv2.TERM_CRITERIA_EPS + cv2.TERM_CRITERIA_MAX_ITER, 100, 0.2)\n",
    "  ret, labels, centers = cv2.kmeans(img, number_of_clusters, None, criteria, 10, cv2.KMEANS_RANDOM_CENTERS)\n",
    "  labels = labels.flatten()\n",
    "  labels = labels.reshape(1024, 768)\n",
    "  file = file.rsplit('.', 1)\n",
    "\n",
    "  for i in range(labels.shape[0]):\n",
    "    for j in range(labels.shape[1]):\n",
    "      label = labels[i][j]\n",
    "      pixel_values[label].append(image_data[i][j][:])\n",
    "\n",
    "  for label in pixel_values:\n",
    "    channel_mean = np.mean(pixel_values[label], axis = 0)\n",
    "    cluster_means[label].append(channel_mean)\n",
    "\n",
    "  labels = cv2.rotate(labels, cv2.ROTATE_90_CLOCKWISE)\n",
    "  labels = cv2.flip(labels, 1)\n",
    "  save_im_labelled_images = im_labelled_images_path + '/' + file[0] + '.png'\n",
    "  cv2.imwrite(save_im_labelled_images, labels)\n",
    "\n",
    "  mean_list.append(cluster_means)\n",
    "  pixel_values = dict((k, list()) for k in pixel_values)\n",
    "  cluster_means = dict((k, list()) for k in cluster_means)\n",
    "\n",
    "print('!!!!!! Cluster Mean Calculated Successfully !!!!!!')"
   ]
  },
  {
   "cell_type": "code",
   "execution_count": 51,
   "metadata": {},
   "outputs": [
    {
     "name": "stdout",
     "output_type": "stream",
     "text": [
      "[{0: [array([2.44446578e-01, 2.41821953e-01, 2.50947324e-01, 2.47738986e-01,\n",
      "       2.74771562e-01, 2.90052062e-01, 3.01413723e-01, 3.07600855e-01,\n",
      "       3.09181142e-01, 3.16978188e-01, 3.25164050e-01, 3.05667764e-01,\n",
      "       3.05998002e-01, 2.85679098e-01, 2.61381655e-01, 2.33849318e-01,\n",
      "       2.33142766e-01, 2.30310533e-01, 2.29789518e-01, 2.38992490e-01,\n",
      "       2.58895832e-01, 2.78575074e-01, 2.76416775e-01, 2.89311014e-01,\n",
      "       3.12723686e-01, 3.14893079e-01, 3.21814227e-01, 3.35689111e-01,\n",
      "       3.32966991e-01, 3.44186513e-01, 3.61465307e-01, 3.82498636e-01,\n",
      "       3.93790411e-01, 3.92462516e-01, 4.01923917e-01, 4.13204619e-01,\n",
      "       4.13169576e-01, 4.06257863e-01, 4.02346951e-01, 3.97075726e-01,\n",
      "       3.95330179e-01, 3.97697787e-01, 3.82682655e-01, 3.57138785e-01,\n",
      "       3.69099280e-01, 3.91039807e-01, 4.00285306e-01, 3.97045042e-01,\n",
      "       3.97856945e-01, 3.99215623e-01, 3.74498179e-01, 3.62584033e-01,\n",
      "       3.64252086e-01, 3.69904316e-01, 3.49460111e-01, 3.31378028e-01,\n",
      "       3.18978261e-01, 3.26661363e-01, 3.26712005e-01, 3.25654957e-01,\n",
      "       3.26889176e-01, 3.16758100e-01, 2.79169453e-01, 2.42760982e-01,\n",
      "       2.41559383e-01, 2.48758982e-01, 2.66079005e-01, 2.73251514e-01,\n",
      "       2.19696419e-01, 1.91773447e-01, 1.86688899e-01, 1.96057734e-01,\n",
      "       2.18087650e-01, 2.62503414e-01, 2.82822299e-01, 2.84761355e-01,\n",
      "       2.57139694e-01, 2.36368687e-01, 2.31050066e-01, 2.41615941e-01,\n",
      "       2.50031140e-01, 7.29748731e+02, 5.83738315e+02])], 1: [array([3.94291482e-01, 4.05971572e-01, 4.34647107e-01, 4.42727612e-01,\n",
      "       5.03245669e-01, 5.30768648e-01, 5.48522006e-01, 5.51697105e-01,\n",
      "       5.49862604e-01, 5.59255462e-01, 5.71283393e-01, 5.36477161e-01,\n",
      "       5.36776343e-01, 5.00020246e-01, 4.56537969e-01, 4.07299891e-01,\n",
      "       4.05316485e-01, 4.00052226e-01, 3.97944200e-01, 4.13730156e-01,\n",
      "       4.48017839e-01, 4.81314932e-01, 4.76201744e-01, 4.99006747e-01,\n",
      "       5.37846476e-01, 5.39369175e-01, 5.50504877e-01, 5.72146315e-01,\n",
      "       5.63077024e-01, 5.79745908e-01, 6.05153237e-01, 6.35903743e-01,\n",
      "       6.49987458e-01, 6.46499754e-01, 6.59160818e-01, 6.74406828e-01,\n",
      "       6.72433166e-01, 6.61582841e-01, 6.55434704e-01, 6.48828722e-01,\n",
      "       6.46972796e-01, 6.50829390e-01, 6.27357199e-01, 5.89232780e-01,\n",
      "       6.09114519e-01, 6.41834906e-01, 6.53353697e-01, 6.47955286e-01,\n",
      "       6.49156757e-01, 6.50540706e-01, 6.15140365e-01, 5.98166393e-01,\n",
      "       6.00635062e-01, 6.08560758e-01, 5.77864012e-01, 5.51328020e-01,\n",
      "       5.31758788e-01, 5.42746840e-01, 5.41619575e-01, 5.38679436e-01,\n",
      "       5.39764808e-01, 5.21849580e-01, 4.59121547e-01, 3.99001726e-01,\n",
      "       3.94754533e-01, 4.01377358e-01, 4.24964413e-01, 4.28524588e-01,\n",
      "       3.36724271e-01, 2.88691147e-01, 2.73872986e-01, 2.85307656e-01,\n",
      "       3.16010726e-01, 3.76035732e-01, 4.01222515e-01, 4.00517855e-01,\n",
      "       3.58687260e-01, 3.27940722e-01, 3.24479643e-01, 3.38021315e-01,\n",
      "       3.48768581e-01, 7.30348568e+02, 1.83150228e+02])], 2: [array([3.35923785e-01, 3.42376498e-01, 3.64712724e-01, 3.94481031e-01,\n",
      "       4.23870095e-01, 4.36954025e-01, 4.49294836e-01, 4.47074277e-01,\n",
      "       4.40061210e-01, 4.44712836e-01, 4.43345481e-01, 4.34981199e-01,\n",
      "       4.28751584e-01, 4.04288833e-01, 3.69484631e-01, 3.23694890e-01,\n",
      "       3.23085388e-01, 3.15358514e-01, 3.12255658e-01, 3.28304601e-01,\n",
      "       3.56279400e-01, 3.82628200e-01, 3.80284634e-01, 4.00112256e-01,\n",
      "       4.29020218e-01, 4.29955947e-01, 4.43540636e-01, 4.60018646e-01,\n",
      "       4.58437125e-01, 4.77256659e-01, 4.95142025e-01, 5.18803904e-01,\n",
      "       5.32473698e-01, 5.32361619e-01, 5.43186334e-01, 5.58063926e-01,\n",
      "       5.60832657e-01, 5.52690019e-01, 5.41167679e-01, 5.37985421e-01,\n",
      "       5.41009016e-01, 5.46740763e-01, 5.06184562e-01, 4.82271815e-01,\n",
      "       5.09480855e-01, 5.44539142e-01, 5.53087737e-01, 5.42861150e-01,\n",
      "       5.41284262e-01, 5.42499889e-01, 5.16404428e-01, 5.05871437e-01,\n",
      "       5.05311007e-01, 5.03936241e-01, 4.73428259e-01, 4.59608501e-01,\n",
      "       4.51422229e-01, 4.63472795e-01, 4.59366053e-01, 4.51693136e-01,\n",
      "       4.52271445e-01, 4.38064644e-01, 3.82085451e-01, 3.34548157e-01,\n",
      "       3.31498035e-01, 3.38608426e-01, 3.60249524e-01, 3.59906164e-01,\n",
      "       2.74523855e-01, 2.46950361e-01, 2.38418874e-01, 2.57236279e-01,\n",
      "       2.82874812e-01, 3.35670893e-01, 3.58033997e-01, 3.59083519e-01,\n",
      "       3.06737948e-01, 2.94627577e-01, 3.03329288e-01, 3.06796375e-01,\n",
      "       3.13267692e-01, 2.21847889e+02, 3.83269450e+02])]}, {0: [array([3.75657279e-01, 4.25569798e-01, 4.64396934e-01, 5.29893521e-01,\n",
      "       5.87843715e-01, 5.83619531e-01, 5.80107477e-01, 5.99516725e-01,\n",
      "       5.97864313e-01, 5.82722605e-01, 5.59984440e-01, 5.47075358e-01,\n",
      "       5.28971790e-01, 4.76222077e-01, 4.54064702e-01, 4.17860433e-01,\n",
      "       4.02887504e-01, 3.72598970e-01, 3.56583664e-01, 3.52913471e-01,\n",
      "       3.47249062e-01, 3.71164194e-01, 3.64798091e-01, 3.81654394e-01,\n",
      "       4.05127153e-01, 4.01321581e-01, 4.06835944e-01, 4.19725977e-01,\n",
      "       4.13544606e-01, 4.26255208e-01, 4.36318660e-01, 4.54002829e-01,\n",
      "       4.61243671e-01, 4.53724806e-01, 4.59253557e-01, 4.68940971e-01,\n",
      "       4.65156869e-01, 4.52403077e-01, 4.36130496e-01, 4.22712255e-01,\n",
      "       4.20021929e-01, 4.24272426e-01, 3.87178562e-01, 3.60878084e-01,\n",
      "       3.79250760e-01, 4.07209414e-01, 4.11858586e-01, 4.01080255e-01,\n",
      "       3.95054187e-01, 3.91455206e-01, 3.61305991e-01, 3.50579216e-01,\n",
      "       3.50567650e-01, 3.49102580e-01, 3.21720480e-01, 3.08492542e-01,\n",
      "       3.00651609e-01, 3.08185444e-01, 3.04082721e-01, 2.96675877e-01,\n",
      "       2.94535271e-01, 2.81156024e-01, 2.36426141e-01, 2.02021924e-01,\n",
      "       2.01031624e-01, 2.04731962e-01, 2.17725186e-01, 2.16751371e-01,\n",
      "       1.60416478e-01, 1.32688346e-01, 1.16826532e-01, 1.39721209e-01,\n",
      "       1.64405903e-01, 1.99154373e-01, 2.14779323e-01, 2.14790455e-01,\n",
      "       1.80527572e-01, 1.23059351e-01, 1.31579051e-01, 1.72838471e-01,\n",
      "       1.84654589e-01, 2.92961395e+02, 5.83309810e+02])], 1: [array([3.93152970e-01, 4.45561707e-01, 4.88403876e-01, 5.58116153e-01,\n",
      "       6.17524172e-01, 6.10058638e-01, 6.04067215e-01, 6.15843746e-01,\n",
      "       6.09792776e-01, 5.88229800e-01, 5.60473876e-01, 5.39775482e-01,\n",
      "       5.17851998e-01, 4.60927094e-01, 4.37201862e-01, 3.96260211e-01,\n",
      "       3.78350052e-01, 3.47000296e-01, 3.29170624e-01, 3.23518772e-01,\n",
      "       3.16650840e-01, 3.34651628e-01, 3.25151666e-01, 3.37692766e-01,\n",
      "       3.54688326e-01, 3.50708026e-01, 3.54516643e-01, 3.61260538e-01,\n",
      "       3.50600119e-01, 3.59239925e-01, 3.65694864e-01, 3.78161754e-01,\n",
      "       3.81131870e-01, 3.74676727e-01, 3.76665714e-01, 3.81160010e-01,\n",
      "       3.75102657e-01, 3.64513572e-01, 3.53379021e-01, 3.45545932e-01,\n",
      "       3.42194218e-01, 3.41364252e-01, 3.16346427e-01, 3.00076221e-01,\n",
      "       3.09827970e-01, 3.23720717e-01, 3.21138871e-01, 3.11276491e-01,\n",
      "       3.05765949e-01, 3.03325089e-01, 2.84117935e-01, 2.75300165e-01,\n",
      "       2.72411690e-01, 2.69224754e-01, 2.53075606e-01, 2.42773949e-01,\n",
      "       2.34301314e-01, 2.34603584e-01, 2.29402343e-01, 2.22467681e-01,\n",
      "       2.20559640e-01, 2.11128608e-01, 1.82845138e-01, 1.61352140e-01,\n",
      "       1.60085668e-01, 1.62163489e-01, 1.70202380e-01, 1.68217194e-01,\n",
      "       1.31224723e-01, 1.12230710e-01, 1.00153161e-01, 1.12739196e-01,\n",
      "       1.26795810e-01, 1.45214952e-01, 1.53141087e-01, 1.52328535e-01,\n",
      "       1.30158670e-01, 9.77668168e-02, 1.00451666e-01, 1.24706843e-01,\n",
      "       1.32536419e-01, 2.93180777e+02, 1.82727402e+02])], 2: [array([3.07681230e-01, 3.41952793e-01, 3.75146335e-01, 3.94540379e-01,\n",
      "       4.59053181e-01, 4.68245314e-01, 4.71414719e-01, 4.93909808e-01,\n",
      "       5.01866662e-01, 4.94658781e-01, 4.87502593e-01, 4.55456769e-01,\n",
      "       4.46327539e-01, 3.96988190e-01, 3.80334438e-01, 3.54563268e-01,\n",
      "       3.40238090e-01, 3.18063332e-01, 3.05649269e-01, 2.99292272e-01,\n",
      "       2.94689350e-01, 3.13306421e-01, 3.07602022e-01, 3.18024833e-01,\n",
      "       3.38779182e-01, 3.37502051e-01, 3.39206734e-01, 3.49444807e-01,\n",
      "       3.40567753e-01, 3.46137790e-01, 3.57678341e-01, 3.73323067e-01,\n",
      "       3.77787553e-01, 3.70975849e-01, 3.75516375e-01, 3.81473443e-01,\n",
      "       3.75795592e-01, 3.65689941e-01, 3.59549788e-01, 3.50022163e-01,\n",
      "       3.44228049e-01, 3.43112988e-01, 3.30641673e-01, 3.07525339e-01,\n",
      "       3.12682605e-01, 3.26137842e-01, 3.29138534e-01, 3.24085884e-01,\n",
      "       3.21458753e-01, 3.19259583e-01, 2.95851772e-01, 2.83670218e-01,\n",
      "       2.83077042e-01, 2.85357289e-01, 2.70150779e-01, 2.53704433e-01,\n",
      "       2.41637598e-01, 2.42997960e-01, 2.40792219e-01, 2.37304703e-01,\n",
      "       2.36348265e-01, 2.26234002e-01, 1.98002193e-01, 1.71090483e-01,\n",
      "       1.69364188e-01, 1.72042604e-01, 1.80719369e-01, 1.81487668e-01,\n",
      "       1.46719200e-01, 1.19596334e-01, 1.05818399e-01, 1.16469322e-01,\n",
      "       1.33348999e-01, 1.55396454e-01, 1.66070526e-01, 1.65080316e-01,\n",
      "       1.47508386e-01, 1.05423190e-01, 1.01679792e-01, 1.31306696e-01,\n",
      "       1.41615253e-01, 8.01270691e+02, 3.83544888e+02])]}, {0: [array([3.50068439e-02, 2.41157825e-02, 1.86369841e-02, 1.58613727e-02,\n",
      "       1.22937038e-02, 1.55288847e-02, 1.89183349e-02, 2.43414881e-02,\n",
      "       2.80916953e-02, 3.27696743e-02, 3.57085574e-02, 3.86398540e-02,\n",
      "       4.44594628e-02, 5.14864676e-02, 5.70576129e-02, 6.52655857e-02,\n",
      "       6.92472888e-02, 7.58644258e-02, 8.04427346e-02, 8.37075424e-02,\n",
      "       8.96497079e-02, 9.48784183e-02, 9.37409759e-02, 9.67116706e-02,\n",
      "       1.03705466e-01, 1.05668322e-01, 1.10950643e-01, 1.17775120e-01,\n",
      "       1.22652010e-01, 1.32308414e-01, 1.49263778e-01, 1.64490680e-01,\n",
      "       1.75575837e-01, 1.79629227e-01, 1.85607629e-01, 1.91040675e-01,\n",
      "       1.91308735e-01, 1.86179515e-01, 1.82690163e-01, 1.76916053e-01,\n",
      "       1.71770424e-01, 1.67057228e-01, 1.62855736e-01, 1.57581382e-01,\n",
      "       1.59503875e-01, 1.61464725e-01, 1.59259177e-01, 1.55254079e-01,\n",
      "       1.51980986e-01, 1.51341115e-01, 1.44855465e-01, 1.40906437e-01,\n",
      "       1.39894456e-01, 1.39125094e-01, 1.34289137e-01, 1.27285311e-01,\n",
      "       1.20761424e-01, 1.17333927e-01, 1.14013944e-01, 1.11349454e-01,\n",
      "       1.11542296e-01, 1.10541484e-01, 1.05739341e-01, 1.08128624e-01,\n",
      "       1.23211992e-01, 1.55850936e-01, 1.89278457e-01, 2.29088992e-01,\n",
      "       2.33260537e-01, 2.35738493e-01, 2.60092474e-01, 3.07881313e-01,\n",
      "       3.55107802e-01, 4.12412446e-01, 4.45423945e-01, 4.61072232e-01,\n",
      "       4.40738193e-01, 3.22145459e-01, 3.44513826e-01, 4.12234826e-01,\n",
      "       4.34688440e-01, 8.01270582e+02, 3.83546746e+02])], 1: [array([3.46179544e-02, 2.33044971e-02, 1.75705818e-02, 1.53151825e-02,\n",
      "       1.13134961e-02, 1.38920933e-02, 1.68848529e-02, 2.17689233e-02,\n",
      "       2.49677732e-02, 2.92439693e-02, 3.13865015e-02, 3.54098650e-02,\n",
      "       4.05798982e-02, 4.81536993e-02, 5.34896288e-02, 6.08738884e-02,\n",
      "       6.51443569e-02, 7.13271233e-02, 7.55445629e-02, 7.97583118e-02,\n",
      "       8.62077709e-02, 9.18638903e-02, 9.04769666e-02, 9.48167235e-02,\n",
      "       1.02007051e-01, 1.03616851e-01, 1.09022035e-01, 1.14359348e-01,\n",
      "       1.16681390e-01, 1.25745520e-01, 1.37077180e-01, 1.48387118e-01,\n",
      "       1.57121773e-01, 1.60741341e-01, 1.65592208e-01, 1.70814760e-01,\n",
      "       1.71852333e-01, 1.68699155e-01, 1.65571266e-01, 1.63462209e-01,\n",
      "       1.62150149e-01, 1.61149950e-01, 1.56005979e-01, 1.53272365e-01,\n",
      "       1.58462121e-01, 1.62709632e-01, 1.61131716e-01, 1.56622635e-01,\n",
      "       1.54163237e-01, 1.54804207e-01, 1.50257498e-01, 1.47264206e-01,\n",
      "       1.46094808e-01, 1.44953639e-01, 1.40608221e-01, 1.36716386e-01,\n",
      "       1.31515767e-01, 1.29672581e-01, 1.26224164e-01, 1.22876848e-01,\n",
      "       1.23138534e-01, 1.22042002e-01, 1.13417053e-01, 1.12986237e-01,\n",
      "       1.23268055e-01, 1.46783953e-01, 1.74135535e-01, 2.07538436e-01,\n",
      "       2.03792261e-01, 2.13812903e-01, 2.41041442e-01, 2.97969640e-01,\n",
      "       3.47884958e-01, 4.10115561e-01, 4.46269326e-01, 4.65683817e-01,\n",
      "       4.28911618e-01, 3.10955040e-01, 3.56858692e-01, 4.21521382e-01,\n",
      "       4.39482133e-01, 2.93182372e+02, 1.82726688e+02])], 2: [array([2.88952181e-02, 2.08085586e-02, 1.65191580e-02, 1.53669124e-02,\n",
      "       1.24253706e-02, 1.58565626e-02, 2.00100706e-02, 2.66808078e-02,\n",
      "       3.12120108e-02, 3.70657430e-02, 4.02372957e-02, 4.57829988e-02,\n",
      "       5.33624383e-02, 6.41507058e-02, 7.21466728e-02, 8.30649041e-02,\n",
      "       8.93234173e-02, 9.85137711e-02, 1.04817773e-01, 1.11178649e-01,\n",
      "       1.21270433e-01, 1.29785559e-01, 1.28669831e-01, 1.34987588e-01,\n",
      "       1.45857235e-01, 1.48514278e-01, 1.55926414e-01, 1.62519211e-01,\n",
      "       1.63416025e-01, 1.73328262e-01, 1.85138001e-01, 1.98566350e-01,\n",
      "       2.09118320e-01, 2.12874131e-01, 2.18948270e-01, 2.25656325e-01,\n",
      "       2.28954657e-01, 2.26738203e-01, 2.25614569e-01, 2.27828616e-01,\n",
      "       2.30052166e-01, 2.31465182e-01, 2.27522433e-01, 2.25186163e-01,\n",
      "       2.34038410e-01, 2.40947324e-01, 2.40488562e-01, 2.34809674e-01,\n",
      "       2.32402054e-01, 2.34582323e-01, 2.28733668e-01, 2.24157378e-01,\n",
      "       2.22195073e-01, 2.21551208e-01, 2.16655100e-01, 2.12249195e-01,\n",
      "       2.04535015e-01, 2.02674620e-01, 1.98048818e-01, 1.93128358e-01,\n",
      "       1.93599625e-01, 1.91225398e-01, 1.76370202e-01, 1.67875471e-01,\n",
      "       1.74030162e-01, 1.91160542e-01, 2.13502321e-01, 2.38432938e-01,\n",
      "       2.25982674e-01, 2.24500988e-01, 2.39141766e-01, 2.79862863e-01,\n",
      "       3.17697329e-01, 3.63460464e-01, 3.90188645e-01, 4.02734256e-01,\n",
      "       3.73934899e-01, 2.67619192e-01, 3.01586182e-01, 3.56980593e-01,\n",
      "       3.71637880e-01, 2.92959970e+02, 5.83309508e+02])]}]\n"
     ]
    }
   ],
   "source": [
    "print(mean_list)"
   ]
  },
  {
   "cell_type": "code",
   "execution_count": 52,
   "metadata": {},
   "outputs": [
    {
     "name": "stdout",
     "output_type": "stream",
     "text": [
      "length of meanlist 3\n"
     ]
    }
   ],
   "source": [
    "print(\"length of meanlist\", len(mean_list))"
   ]
  },
  {
   "cell_type": "code",
   "execution_count": 53,
   "metadata": {},
   "outputs": [
    {
     "name": "stdout",
     "output_type": "stream",
     "text": [
      "{0: [], 1: [], 2: []}\n"
     ]
    }
   ],
   "source": [
    "print(cluster_means)"
   ]
  },
  {
   "cell_type": "code",
   "execution_count": 54,
   "metadata": {},
   "outputs": [
    {
     "name": "stdout",
     "output_type": "stream",
     "text": [
      "cluster distance 1\n",
      "cluster distance 2\n",
      "cluster distance 3\n",
      "cluster distance 1\n",
      "cluster distance 2\n",
      "cluster distance 3\n",
      "cluster distance 1\n",
      "cluster distance 2\n",
      "cluster distance 3\n",
      "!!!!!! Euclidean Distance Calculated Successfully !!!!!!\n"
     ]
    }
   ],
   "source": [
    "dist = 0\n",
    "clus_dist = []\n",
    "euc_dist = []\n",
    "for i in range(len(mean_list)):\n",
    "  for j in range(len(mean_list[i])):\n",
    "    for k in range(len(mean_list[i])):\n",
    "      # print('i-j', type(mean_list[i][j][0]))\n",
    "      # print('i-k', type(mean_list[i][k][0]))\n",
    "\n",
    "      dist = dist + scipy.spatial.distance.euclidean(mean_list[i][j][:], mean_list[i][k][:])\n",
    "      # dist += np.linalg.norm(mean_list[i][j][0] - mean_list[i][k][0])\n",
    "    clus_dist.append(dist)\n",
    "    # print(\"cluster distance\",  len(clus_dist))\n",
    "    dist = 0\n",
    "\n",
    "  euc_dist.append(clus_dist)\n",
    "  clus_dist = []\n",
    "\n",
    "print('!!!!!! Euclidean Distance Calculated Successfully !!!!!!')"
   ]
  },
  {
   "cell_type": "code",
   "execution_count": 55,
   "metadata": {},
   "outputs": [
    {
     "name": "stdout",
     "output_type": "stream",
     "text": [
      "[[946.6260122332963, 947.0554337347166, 1092.4956518727813], [946.7373126966161, 946.9189767992024, 1092.4906889836934], [1092.4901533538616, 946.91852073989, 946.7379404994826]]\n"
     ]
    }
   ],
   "source": [
    "print(euc_dist)"
   ]
  },
  {
   "cell_type": "code",
   "execution_count": 57,
   "metadata": {},
   "outputs": [
    {
     "name": "stdout",
     "output_type": "stream",
     "text": [
      "HS_files_labelled_images ['0001.png', '0002.png', '0006.png']\n",
      "!!!!!!!!! Image saved successfully !!!!!!!!!!\n"
     ]
    }
   ],
   "source": [
    "# mean_list_ind = 0\n",
    "euc_dist_ind = 0\n",
    "clusters_ind = -1\n",
    "\n",
    "File_path_labelled_images = '/home/cse/Desktop/Raj_M.Tech_Project/Approach4/HS_Results/Together/location_appended_results'\n",
    "HS_files_labelled_images = sorted(os.listdir(File_path_labelled_images))\n",
    "print(\"HS_files_labelled_images\", HS_files_labelled_images)\n",
    "\n",
    "save_path = '/home/cse/Desktop/Raj_M.Tech_Project/Approach4/HS_Results/Together'\n",
    "im_final_segmented_images = os.path.join(save_path, 'Location_Appended_Final_Images')\n",
    "mkdir(im_final_segmented_images)\n",
    "\n",
    "for labelled_images in HS_files_labelled_images:\n",
    "  file = labelled_images.rsplit('.', 1)\n",
    "  input_labelled_images = os.path.join(File_path_labelled_images, labelled_images)\n",
    "  img = cv2.imread(input_labelled_images)\n",
    "  # print('Image before channel removal', img.shape)\n",
    "  img = np.max(img, axis = 2)\n",
    "  # print('Image after channel removal', img.shape)\n",
    "  # print('Image shape[0]', img.shape[0])\n",
    "  # print('Image shape[1]', img.shape[1])\n",
    "  \n",
    "  clusters_ind += 1\n",
    "  for clusters in range(clusters_ind, len(mean_list), 1):\n",
    "    for label, mean in mean_list[clusters].items():\n",
    "      if np.mean(mean[0]) != 0:\n",
    "        for i in range(img.shape[0]):\n",
    "          for j in range(img.shape[1]):\n",
    "            # print(img[i][j])\n",
    "            if label == img[i][j]:\n",
    "              # print(1)\n",
    "            #   print(euc_dist[clusters])\n",
    "              img[i][j] = euc_dist[clusters][euc_dist_ind]\n",
    "        euc_dist_ind += 1\n",
    "        # print('If euc_dist_ind', euc_dist_ind)\n",
    "      \n",
    "      else:\n",
    "        euc_dist_ind += 1\n",
    "        # print('Else euc_dist_ind', euc_dist_ind)\n",
    "        continue\n",
    "    euc_dist_ind = 0\n",
    "  \n",
    "    # clusters += 1\n",
    "    # img = cv2.rotate(img, cv2.ROTATE_90_CLOCKWISE)\n",
    "    # img = cv2.flip(img, 1)\n",
    "    \n",
    "    max_pixel_val = np.max(img)\n",
    "    img = img/max_pixel_val\n",
    "    img = img * 255\n",
    "\n",
    "    # kernel = np.ones((9, 9), np.uint8)\n",
    "    # img = cv2.morphologyEx(img, cv2.MORPH_CLOSE, kernel)\n",
    "\n",
    "    save_im_final_featureMap = im_final_segmented_images + '/' + file[0] + '.png'\n",
    "    cv2.imwrite(save_im_final_featureMap, img)\n",
    "    break\n",
    "\n",
    "  # save_im_fdict_size = 5inal_featureMap = im_final_segmented_images + '/' + file[0] + '.png'\n",
    "  # cv2.imwrite(save_im_final_featureMap, img)\n",
    "\n",
    "print('!!!!!!!!! Image saved successfully !!!!!!!!!!')"
   ]
  }
 ],
 "metadata": {
  "kernelspec": {
   "display_name": "Python 3",
   "language": "python",
   "name": "python3"
  },
  "language_info": {
   "codemirror_mode": {
    "name": "ipython",
    "version": 3
   },
   "file_extension": ".py",
   "mimetype": "text/x-python",
   "name": "python",
   "nbconvert_exporter": "python",
   "pygments_lexer": "ipython3",
   "version": "3.6.9"
  },
  "orig_nbformat": 4,
  "vscode": {
   "interpreter": {
    "hash": "31f2aee4e71d21fbe5cf8b01ff0e069b9275f58929596ceb00d14d90e3e16cd6"
   }
  }
 },
 "nbformat": 4,
 "nbformat_minor": 2
}
