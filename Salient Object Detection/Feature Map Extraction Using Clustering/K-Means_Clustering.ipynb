{
 "cells": [
  {
   "cell_type": "code",
   "execution_count": 1,
   "metadata": {},
   "outputs": [],
   "source": [
    "import h5py\n",
    "import os\n",
    "import cv2\n",
    "import numpy as np\n",
    "import scipy.spatial.distance\n",
    "import scipy.io\n",
    "import mat73\n",
    "\n",
    "from skimage import io\n",
    "from sklearn.cluster import KMeans\n",
    "from pandas import DataFrame"
   ]
  },
  {
   "cell_type": "code",
   "execution_count": 4,
   "metadata": {},
   "outputs": [
    {
     "name": "stdout",
     "output_type": "stream",
     "text": [
      "HS_files ['0016.mat', '0012.mat']\n"
     ]
    }
   ],
   "source": [
    "File_path = '/home/cse/Desktop/Raj_M.Tech_Project/Raj/location_append_normalised_mat_7_bAND_MIN_MAX'\n",
    "HS_files = os.listdir(File_path)\n",
    "print(\"HS_files\", HS_files)\n",
    "save_path = '/home/cse/Desktop/Raj_M.Tech_Project/Approach4/HS_Results/Test'"
   ]
  },
  {
   "cell_type": "code",
   "execution_count": 5,
   "metadata": {},
   "outputs": [],
   "source": [
    "def create_dict(temp_dict, dict_size):\n",
    "# dict_size = 10\n",
    "  # temp_dict = {}\n",
    "  for i in range(dict_size):\n",
    "    temp_dict.update({i: list()})\n",
    "  return temp_dict"
   ]
  },
  {
   "cell_type": "code",
   "execution_count": 6,
   "metadata": {},
   "outputs": [],
   "source": [
    "number_of_clusters = 10"
   ]
  },
  {
   "cell_type": "code",
   "execution_count": 7,
   "metadata": {},
   "outputs": [],
   "source": [
    "dict_size = 10\n",
    "pixel_values = create_dict({}, dict_size)\n",
    "cluster_means = create_dict({}, dict_size)\n",
    "mean_list = []"
   ]
  },
  {
   "cell_type": "code",
   "execution_count": 8,
   "metadata": {},
   "outputs": [
    {
     "name": "stdout",
     "output_type": "stream",
     "text": [
      "pixel values {0: [], 1: [], 2: [], 3: [], 4: [], 5: [], 6: [], 7: [], 8: [], 9: []}\n",
      "cluster means {0: [], 1: [], 2: [], 3: [], 4: [], 5: [], 6: [], 7: [], 8: [], 9: []}\n"
     ]
    }
   ],
   "source": [
    "print('pixel values', pixel_values)\n",
    "print('cluster means', cluster_means)"
   ]
  },
  {
   "cell_type": "code",
   "execution_count": 9,
   "metadata": {},
   "outputs": [],
   "source": [
    "def mkdir(dir_path):\n",
    "    if not os.path.exists(dir_path):\n",
    "        os.makedirs(dir_path)"
   ]
  },
  {
   "cell_type": "code",
   "execution_count": 10,
   "metadata": {},
   "outputs": [],
   "source": [
    "im_labelled_images_path = os.path.join(save_path, 'labelled_images')\n",
    "mkdir(im_labelled_images_path)"
   ]
  },
  {
   "cell_type": "code",
   "execution_count": 12,
   "metadata": {},
   "outputs": [
    {
     "ename": "ValueError",
     "evalue": "Unknown mat file type, version 113, 198",
     "output_type": "error",
     "traceback": [
      "\u001b[0;31m---------------------------------------------------------------------------\u001b[0m",
      "\u001b[0;31mValueError\u001b[0m                                Traceback (most recent call last)",
      "\u001b[0;32m<ipython-input-12-dd13651e40d7>\u001b[0m in \u001b[0;36m<module>\u001b[0;34m\u001b[0m\n\u001b[1;32m      2\u001b[0m   \u001b[0minput_img\u001b[0m \u001b[0;34m=\u001b[0m \u001b[0mos\u001b[0m\u001b[0;34m.\u001b[0m\u001b[0mpath\u001b[0m\u001b[0;34m.\u001b[0m\u001b[0mjoin\u001b[0m\u001b[0;34m(\u001b[0m\u001b[0mFile_path\u001b[0m\u001b[0;34m,\u001b[0m \u001b[0mfile\u001b[0m\u001b[0;34m)\u001b[0m\u001b[0;34m\u001b[0m\u001b[0;34m\u001b[0m\u001b[0m\n\u001b[1;32m      3\u001b[0m   \u001b[0;31m# mat_dict = h5py.File(input_img)\u001b[0m\u001b[0;34m\u001b[0m\u001b[0;34m\u001b[0m\u001b[0;34m\u001b[0m\u001b[0m\n\u001b[0;32m----> 4\u001b[0;31m   \u001b[0mmat_dict\u001b[0m \u001b[0;34m=\u001b[0m \u001b[0mscipy\u001b[0m\u001b[0;34m.\u001b[0m\u001b[0mio\u001b[0m\u001b[0;34m.\u001b[0m\u001b[0mloadmat\u001b[0m\u001b[0;34m(\u001b[0m\u001b[0minput_img\u001b[0m\u001b[0;34m)\u001b[0m\u001b[0;34m\u001b[0m\u001b[0;34m\u001b[0m\u001b[0m\n\u001b[0m\u001b[1;32m      5\u001b[0m   \u001b[0;32mfor\u001b[0m \u001b[0mkey\u001b[0m\u001b[0;34m,\u001b[0m \u001b[0mvalue\u001b[0m \u001b[0;32min\u001b[0m \u001b[0mmat_dict\u001b[0m\u001b[0;34m.\u001b[0m\u001b[0mitems\u001b[0m\u001b[0;34m(\u001b[0m\u001b[0;34m)\u001b[0m\u001b[0;34m:\u001b[0m\u001b[0;34m\u001b[0m\u001b[0;34m\u001b[0m\u001b[0m\n\u001b[1;32m      6\u001b[0m     \u001b[0mimage_data\u001b[0m \u001b[0;34m=\u001b[0m \u001b[0mnp\u001b[0m\u001b[0;34m.\u001b[0m\u001b[0marray\u001b[0m\u001b[0;34m(\u001b[0m\u001b[0mvalue\u001b[0m\u001b[0;34m)\u001b[0m\u001b[0;34m\u001b[0m\u001b[0;34m\u001b[0m\u001b[0m\n",
      "\u001b[0;32m~/.local/lib/python3.6/site-packages/scipy/io/matlab/mio.py\u001b[0m in \u001b[0;36mloadmat\u001b[0;34m(file_name, mdict, appendmat, **kwargs)\u001b[0m\n\u001b[1;32m    221\u001b[0m     \u001b[0mvariable_names\u001b[0m \u001b[0;34m=\u001b[0m \u001b[0mkwargs\u001b[0m\u001b[0;34m.\u001b[0m\u001b[0mpop\u001b[0m\u001b[0;34m(\u001b[0m\u001b[0;34m'variable_names'\u001b[0m\u001b[0;34m,\u001b[0m \u001b[0;32mNone\u001b[0m\u001b[0;34m)\u001b[0m\u001b[0;34m\u001b[0m\u001b[0;34m\u001b[0m\u001b[0m\n\u001b[1;32m    222\u001b[0m     \u001b[0;32mwith\u001b[0m \u001b[0m_open_file_context\u001b[0m\u001b[0;34m(\u001b[0m\u001b[0mfile_name\u001b[0m\u001b[0;34m,\u001b[0m \u001b[0mappendmat\u001b[0m\u001b[0;34m)\u001b[0m \u001b[0;32mas\u001b[0m \u001b[0mf\u001b[0m\u001b[0;34m:\u001b[0m\u001b[0;34m\u001b[0m\u001b[0;34m\u001b[0m\u001b[0m\n\u001b[0;32m--> 223\u001b[0;31m         \u001b[0mMR\u001b[0m\u001b[0;34m,\u001b[0m \u001b[0m_\u001b[0m \u001b[0;34m=\u001b[0m \u001b[0mmat_reader_factory\u001b[0m\u001b[0;34m(\u001b[0m\u001b[0mf\u001b[0m\u001b[0;34m,\u001b[0m \u001b[0;34m**\u001b[0m\u001b[0mkwargs\u001b[0m\u001b[0;34m)\u001b[0m\u001b[0;34m\u001b[0m\u001b[0;34m\u001b[0m\u001b[0m\n\u001b[0m\u001b[1;32m    224\u001b[0m         \u001b[0mmatfile_dict\u001b[0m \u001b[0;34m=\u001b[0m \u001b[0mMR\u001b[0m\u001b[0;34m.\u001b[0m\u001b[0mget_variables\u001b[0m\u001b[0;34m(\u001b[0m\u001b[0mvariable_names\u001b[0m\u001b[0;34m)\u001b[0m\u001b[0;34m\u001b[0m\u001b[0;34m\u001b[0m\u001b[0m\n\u001b[1;32m    225\u001b[0m \u001b[0;34m\u001b[0m\u001b[0m\n",
      "\u001b[0;32m~/.local/lib/python3.6/site-packages/scipy/io/matlab/mio.py\u001b[0m in \u001b[0;36mmat_reader_factory\u001b[0;34m(file_name, appendmat, **kwargs)\u001b[0m\n\u001b[1;32m     70\u001b[0m     \"\"\"\n\u001b[1;32m     71\u001b[0m     \u001b[0mbyte_stream\u001b[0m\u001b[0;34m,\u001b[0m \u001b[0mfile_opened\u001b[0m \u001b[0;34m=\u001b[0m \u001b[0m_open_file\u001b[0m\u001b[0;34m(\u001b[0m\u001b[0mfile_name\u001b[0m\u001b[0;34m,\u001b[0m \u001b[0mappendmat\u001b[0m\u001b[0;34m)\u001b[0m\u001b[0;34m\u001b[0m\u001b[0;34m\u001b[0m\u001b[0m\n\u001b[0;32m---> 72\u001b[0;31m     \u001b[0mmjv\u001b[0m\u001b[0;34m,\u001b[0m \u001b[0mmnv\u001b[0m \u001b[0;34m=\u001b[0m \u001b[0mget_matfile_version\u001b[0m\u001b[0;34m(\u001b[0m\u001b[0mbyte_stream\u001b[0m\u001b[0;34m)\u001b[0m\u001b[0;34m\u001b[0m\u001b[0;34m\u001b[0m\u001b[0m\n\u001b[0m\u001b[1;32m     73\u001b[0m     \u001b[0;32mif\u001b[0m \u001b[0mmjv\u001b[0m \u001b[0;34m==\u001b[0m \u001b[0;36m0\u001b[0m\u001b[0;34m:\u001b[0m\u001b[0;34m\u001b[0m\u001b[0;34m\u001b[0m\u001b[0m\n\u001b[1;32m     74\u001b[0m         \u001b[0;32mreturn\u001b[0m \u001b[0mMatFile4Reader\u001b[0m\u001b[0;34m(\u001b[0m\u001b[0mbyte_stream\u001b[0m\u001b[0;34m,\u001b[0m \u001b[0;34m**\u001b[0m\u001b[0mkwargs\u001b[0m\u001b[0;34m)\u001b[0m\u001b[0;34m,\u001b[0m \u001b[0mfile_opened\u001b[0m\u001b[0;34m\u001b[0m\u001b[0;34m\u001b[0m\u001b[0m\n",
      "\u001b[0;32m~/.local/lib/python3.6/site-packages/scipy/io/matlab/miobase.py\u001b[0m in \u001b[0;36mget_matfile_version\u001b[0;34m(fileobj)\u001b[0m\n\u001b[1;32m    229\u001b[0m     \u001b[0;32mif\u001b[0m \u001b[0mmaj_val\u001b[0m \u001b[0;32min\u001b[0m \u001b[0;34m(\u001b[0m\u001b[0;36m1\u001b[0m\u001b[0;34m,\u001b[0m \u001b[0;36m2\u001b[0m\u001b[0;34m)\u001b[0m\u001b[0;34m:\u001b[0m\u001b[0;34m\u001b[0m\u001b[0;34m\u001b[0m\u001b[0m\n\u001b[1;32m    230\u001b[0m         \u001b[0;32mreturn\u001b[0m \u001b[0mret\u001b[0m\u001b[0;34m\u001b[0m\u001b[0;34m\u001b[0m\u001b[0m\n\u001b[0;32m--> 231\u001b[0;31m     \u001b[0;32mraise\u001b[0m \u001b[0mValueError\u001b[0m\u001b[0;34m(\u001b[0m\u001b[0;34m'Unknown mat file type, version %s, %s'\u001b[0m \u001b[0;34m%\u001b[0m \u001b[0mret\u001b[0m\u001b[0;34m)\u001b[0m\u001b[0;34m\u001b[0m\u001b[0;34m\u001b[0m\u001b[0m\n\u001b[0m\u001b[1;32m    232\u001b[0m \u001b[0;34m\u001b[0m\u001b[0m\n\u001b[1;32m    233\u001b[0m \u001b[0;34m\u001b[0m\u001b[0m\n",
      "\u001b[0;31mValueError\u001b[0m: Unknown mat file type, version 113, 198"
     ]
    }
   ],
   "source": [
    "for file in HS_files:\n",
    "  input_img = os.path.join(File_path, file)\n",
    "  # mat_dict = h5py.File(input_img)\n",
    "  mat_dict = scipy.io.loadmat(input_img)\n",
    "  for key, value in mat_dict.items():\n",
    "    image_data = np.array(value)\n",
    "    # print('Image data before axis move', image_data.shape)\n",
    "    image_data = np.moveaxis(image_data, 0, 2)\n",
    "    # print('Image data after axis move', image_data.shape)\n",
    "    # image_data = cv2.cvtColor(image_data, cv2.COLOR_BGR2RGB)\n",
    "    img = image_data.reshape((-1, 81))\n",
    "    img = np.float32(img)\n",
    "    # print('img shape', img.shape)\n",
    "    criteria = (cv2.TERM_CRITERIA_EPS + cv2.TERM_CRITERIA_MAX_ITER, 100, 0.2)\n",
    "    \n",
    "    # k = 50\n",
    "\n",
    "    ret, labels, centers = cv2.kmeans(img, number_of_clusters, None, criteria, 10, cv2.KMEANS_RANDOM_CENTERS)\n",
    "    # centers = np.uint8(centers)\n",
    "    # print('labels shape before flattening', labels.shape)\n",
    "    labels = labels.flatten()\n",
    "    # print('labels shape after flattening', labels.shape)\n",
    "    labels = labels.reshape(1024, 768)\n",
    "    # print('labels after reshapping', labels.shape)\n",
    "    # print('center shape', centers.shape)\n",
    "    # segmented_image = centers[labels.flatten()]\n",
    "    # segmented_image = segmented_image.reshape(image_data.shape)\n",
    "    # print('segmented_image shape', segmented_image.shape)\n",
    "    file = file.rsplit('.', 1)\n",
    "\n",
    "    for i in range(labels.shape[0]):\n",
    "      for j in range(labels.shape[1]):\n",
    "        label = labels[i][j]\n",
    "        pixel_values[label].append(image_data[i][j][:])\n",
    "\n",
    "    for label in pixel_values:\n",
    "      channel_mean = np.mean(pixel_values[label], axis = 0)\n",
    "      cluster_means[label].append(channel_mean)\n",
    "    \n",
    "    labels = cv2.rotate(labels, cv2.ROTATE_90_CLOCKWISE)\n",
    "    labels = cv2.flip(labels, 1)\n",
    "    save_im_labelled_images = im_labelled_images_path + '/' + file[0] + '.png'\n",
    "    cv2.imwrite(save_im_labelled_images, labels)\n",
    "\n",
    "  mean_list.append(cluster_means)\n",
    "  pixel_values = dict((k, list()) for k in pixel_values)\n",
    "  cluster_means = dict((k, list()) for k in cluster_means)\n",
    "\n",
    "print('!!!!!! Cluster Mean Calculated Successfully !!!!!!')"
   ]
  },
  {
   "cell_type": "code",
   "execution_count": null,
   "metadata": {},
   "outputs": [],
   "source": [
    "# print(mean_list)"
   ]
  },
  {
   "cell_type": "code",
   "execution_count": null,
   "metadata": {},
   "outputs": [],
   "source": [
    "# print(labels)"
   ]
  },
  {
   "cell_type": "code",
   "execution_count": null,
   "metadata": {},
   "outputs": [],
   "source": [
    "# for item in mean_list:\n",
    "#   # print(item)\n",
    "#   for val in item.values():\n",
    "#     # print(val)\n",
    "#     for ele in val:\n",
    "#       if isinstance(ele, float):\n",
    "#         val[0] = [0]"
   ]
  },
  {
   "cell_type": "code",
   "execution_count": 23,
   "metadata": {},
   "outputs": [
    {
     "name": "stdout",
     "output_type": "stream",
     "text": [
      "!!!!!! Euclidean Distance Calculated Successfully !!!!!!\n"
     ]
    }
   ],
   "source": [
    "dist = 0\n",
    "clus_dist = []\n",
    "euc_dist = []\n",
    "for i in range(len(mean_list)):\n",
    "  for j in range(len(mean_list[i])):\n",
    "    for k in range(len(mean_list[i])):\n",
    "      # print('i-j', mean_list[i][j][0])\n",
    "      # print('i-k', mean_list[i][k][0])\n",
    "      dist += scipy.spatial.distance.euclidean(mean_list[i][j][:], mean_list[i][k][:])\n",
    "      # dist += np.linalg.norm(mean_list[i][j][0] - mean_list[i][k][0])\n",
    "    clus_dist.append(dist)\n",
    "    dist = 0\n",
    "\n",
    "  euc_dist.append(clus_dist)\n",
    "  clus_dist = []\n",
    "\n",
    "print('!!!!!! Euclidean Distance Calculated Successfully !!!!!!')"
   ]
  },
  {
   "cell_type": "code",
   "execution_count": 24,
   "metadata": {},
   "outputs": [],
   "source": [
    "# print(euc_dist)"
   ]
  },
  {
   "cell_type": "code",
   "execution_count": 25,
   "metadata": {},
   "outputs": [
    {
     "name": "stdout",
     "output_type": "stream",
     "text": [
      "HS_files_labelled_images ['0041.png', '0042.png', '0043.png', '0044.png', '0045.png', '0046.png', '0047.png', '0050.png', '0051.png', '0056.png', '0061.png', '0062.png', '0064.png', '0065.png', '0070.png', '0071.png', '0072.png', '0076.png']\n",
      "!!!!!!!!! Image saved successfully !!!!!!!!!!\n"
     ]
    }
   ],
   "source": [
    "# mean_list_ind = 0\n",
    "euc_dist_ind = 0\n",
    "clusters_ind = -1\n",
    "\n",
    "File_path_labelled_images = '/home/cse/Desktop/Raj_M.Tech_Project/Approach4/HS_Results/Test/labelled_images'\n",
    "HS_files_labelled_images = sorted(os.listdir(File_path_labelled_images))\n",
    "print(\"HS_files_labelled_images\", HS_files_labelled_images)\n",
    "\n",
    "save_path = '/home/cse/Desktop/Raj_M.Tech_Project/Approach4/HS_Results/Test'\n",
    "im_final_segmented_images = os.path.join(save_path, 'Final_Images')\n",
    "mkdir(im_final_segmented_images)\n",
    "\n",
    "for labelled_images in HS_files_labelled_images:\n",
    "  file = labelled_images.rsplit('.', 1)\n",
    "  input_labelled_images = os.path.join(File_path_labelled_images, labelled_images)\n",
    "  img = cv2.imread(input_labelled_images)\n",
    "  # print('Image before channel removal', img.shape)\n",
    "  img = np.max(img, axis = 2)\n",
    "  # print('Image after channel removal', img.shape)\n",
    "  # print('Image shape[0]', img.shape[0])\n",
    "  # print('Image shape[1]', img.shape[1])\n",
    "  \n",
    "  clusters_ind += 1\n",
    "  for clusters in range(clusters_ind, len(mean_list), 1):\n",
    "    for label, mean in mean_list[clusters].items():\n",
    "      if np.mean(mean[0]) != 0:\n",
    "        for i in range(img.shape[0]):\n",
    "          for j in range(img.shape[1]):\n",
    "            # print(img[i][j])\n",
    "            if label == img[i][j]:\n",
    "              # print(1)\n",
    "            #   print(euc_dist[clusters])\n",
    "              img[i][j] = euc_dist[clusters][euc_dist_ind]\n",
    "        euc_dist_ind += 1\n",
    "        # print('If euc_dist_ind', euc_dist_ind)\n",
    "      \n",
    "      else:\n",
    "        euc_dist_ind += 1\n",
    "        # print('Else euc_dist_ind', euc_dist_ind)\n",
    "        continue\n",
    "    euc_dist_ind = 0\n",
    "  \n",
    "    # clusters += 1\n",
    "    # img = cv2.rotate(img, cv2.ROTATE_90_CLOCKWISE)\n",
    "    # img = cv2.flip(img, 1)\n",
    "    \n",
    "    max_pixel_val = np.max(img)\n",
    "    img = img/max_pixel_val\n",
    "    img = img * 255\n",
    "\n",
    "    # kernel = np.ones((9, 9), np.uint8)\n",
    "    # img = cv2.morphologyEx(img, cv2.MORPH_CLOSE, kernel)\n",
    "\n",
    "    save_im_final_featureMap = im_final_segmented_images + '/' + file[0] + '.png'\n",
    "    cv2.imwrite(save_im_final_featureMap, img)\n",
    "    break\n",
    "\n",
    "  # save_im_fdict_size = 5inal_featureMap = im_final_segmented_images + '/' + file[0] + '.png'\n",
    "  # cv2.imwrite(save_im_final_featureMap, img)\n",
    "\n",
    "print('!!!!!!!!! Image saved successfully !!!!!!!!!!')"
   ]
  }
 ],
 "metadata": {
  "kernelspec": {
   "display_name": "Python 3",
   "language": "python",
   "name": "python3"
  },
  "language_info": {
   "codemirror_mode": {
    "name": "ipython",
    "version": 3
   },
   "file_extension": ".py",
   "mimetype": "text/x-python",
   "name": "python",
   "nbconvert_exporter": "python",
   "pygments_lexer": "ipython3",
   "version": "3.6.9"
  },
  "orig_nbformat": 4,
  "vscode": {
   "interpreter": {
    "hash": "31f2aee4e71d21fbe5cf8b01ff0e069b9275f58929596ceb00d14d90e3e16cd6"
   }
  }
 },
 "nbformat": 4,
 "nbformat_minor": 2
}
