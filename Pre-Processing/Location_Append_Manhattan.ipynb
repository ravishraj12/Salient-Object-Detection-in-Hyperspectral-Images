{
 "cells": [
  {
   "cell_type": "code",
   "execution_count": 22,
   "metadata": {},
   "outputs": [],
   "source": [
    "import numpy as np\n",
    "import scipy.io\n",
    "import matplotlib.pyplot as plt\n",
    "import h5py\n",
    "import mat73\n",
    "from PIL import Image\n",
    "import PIL\n",
    "import cv2\n",
    "import os"
   ]
  },
  {
   "cell_type": "code",
   "execution_count": 23,
   "metadata": {},
   "outputs": [],
   "source": [
    "def mkdir(dir_path):\n",
    "    if not os.path.exists(dir_path):\n",
    "        os.makedirs(dir_path)"
   ]
  },
  {
   "cell_type": "code",
   "execution_count": 24,
   "metadata": {},
   "outputs": [],
   "source": [
    "def get_last_modified_stack():\n",
    "    # generate image coordinates\n",
    "    x, y = np.meshgrid(np.arange(768), np.arange(1024))\n",
    "    # print('x shape:', x.shape[0])\n",
    "    # print('y shape', y.shape[1])\n",
    "\n",
    "    image = np.stack([x, y], axis=-1)\n",
    "    image = np.max(image, axis = 2)\n",
    "\n",
    "    # print('image shape', image.shape)\n",
    "    image = image.astype(np.float32)\n",
    "    # print('image before', image)\n",
    "    for i in range(0, image.shape[0]):\n",
    "        for j in range(0, image.shape[1]):\n",
    "            image[i][j] = ((i/1023) + (j/767))/2\n",
    "    # print('image after', image)\n",
    "    return image"
   ]
  },
  {
   "cell_type": "code",
   "execution_count": 25,
   "metadata": {},
   "outputs": [],
   "source": [
    "# def get_last_stack():\n",
    "#     # generate image coordinates\n",
    "#     x, y = np.meshgrid(np.arange(768), np.arange(1024))\n",
    "#     image = np.stack([x, y], axis=-1)\n",
    "\n",
    "#     # calculate manhattan distances from center pixel\n",
    "#     center = image[512, 384]\n",
    "#     distance = np.abs(image - center).sum(axis=-1)\n",
    "#     distance = distance.max() - distance\n",
    "\n",
    "#     return distance"
   ]
  },
  {
   "cell_type": "code",
   "execution_count": 26,
   "metadata": {},
   "outputs": [],
   "source": [
    "def main():\n",
    "    File_path = '/home/nitk/Desktop/Raj_M.Tech_Project/Dataset/HS_images_81channel'\n",
    "    HS_files = os.listdir(File_path)\n",
    "    print(\"HS_files\", HS_files)\n",
    "    # num = 0;\n",
    "    save_path = '/home/nitk/Desktop/Raj_M.Tech_Project/Dataset/Location_Appended_images/Dataset/82Channel'\n",
    "    # mkdir(save_path)\n",
    "    # sal_result_path = os.path.join(save_path, 'HS_Images_10_Output')\n",
    "    # mkdir(sal_result_path)\n",
    "\n",
    "    for file in HS_files:\n",
    "        input_img = os.path.join(File_path, file)\n",
    "        # print(\"Reading File[%d/%d]: %s\" % (num, len(HS_files), input_img))\n",
    "        mat_dict = mat73.loadmat(input_img)\n",
    "        # mat_dict = scipy.io.loadmat(input_img)\n",
    "        \n",
    "        for key in mat_dict:\n",
    "            if type(mat_dict[key]) is np.ndarray:\n",
    "                image_data = mat_dict[key]  # type: np.ndarray\n",
    "        \n",
    "        # print('image_data before axis move:', image_data.shape)\n",
    "        image_data = np.moveaxis(image_data, 0, 1)\n",
    "        # print('image_data after axis move', image_data.shape)\n",
    "\n",
    "        image_2d = get_last_modified_stack()\n",
    "        # print('image_2d', image_2d.shape)\n",
    "        # print('image_2d', image_2d)\n",
    "        \n",
    "        final_image = np.concatenate((image_data, np.expand_dims(image_2d, axis=-1)), axis=-1)\n",
    "\n",
    "        file = file.rsplit('.', 1)\n",
    "        save_sal_name = save_path + '/' + file[0] + '.mat'\n",
    "        #cv2.imwrite(save_sal_name, salmap_final)\n",
    "        scipy.io.savemat(save_sal_name, {'mydata': final_image})\n",
    "\n",
    "    print('!!!!! Image Saved successfully !!!!!!')"
   ]
  },
  {
   "cell_type": "code",
   "execution_count": 27,
   "metadata": {},
   "outputs": [
    {
     "name": "stdout",
     "output_type": "stream",
     "text": [
      "HS_files ['0043.mat', '0001.mat', '0014.mat', '0064.mat', '0065.mat', '0041.mat', '0032.mat', '0038.mat', '0072.mat', '0045.mat', '0077.mat', '0012.mat', '0034.mat', '0033.mat', '0015.mat', '0039.mat', '0028.mat', '0068.mat', '0076.mat', '0040.mat', '0027.mat', '0008.mat', '0024.mat', '0044.mat', '0037.mat', '0051.mat', '0019.mat', '0058.mat', '0046.mat', '0022.mat', '0061.mat', '0018.mat', '0070.mat', '0047.mat', '0074.mat', '0042.mat', '0029.mat', '0052.mat', '0010.mat', '0082.mat', '0031.mat', '0021.mat', '0071.mat', '0002.mat', '0069.mat', '0020.mat', '0062.mat', '0056.mat', '0006.mat', '0054.mat', '0017.mat', '0050.mat', '0026.mat', '0009.mat', '0036.mat', '0078.mat', '0063.mat', '0016.mat', '0079.mat', '0053.mat']\n",
      "!!!!! Image Saved successfully !!!!!!\n"
     ]
    }
   ],
   "source": [
    "if __name__ == \"__main__\":\n",
    "    main()"
   ]
  }
 ],
 "metadata": {
  "kernelspec": {
   "display_name": "Python 3",
   "language": "python",
   "name": "python3"
  },
  "language_info": {
   "codemirror_mode": {
    "name": "ipython",
    "version": 3
   },
   "file_extension": ".py",
   "mimetype": "text/x-python",
   "name": "python",
   "nbconvert_exporter": "python",
   "pygments_lexer": "ipython3",
   "version": "3.10.6"
  },
  "orig_nbformat": 4,
  "vscode": {
   "interpreter": {
    "hash": "31f2aee4e71d21fbe5cf8b01ff0e069b9275f58929596ceb00d14d90e3e16cd6"
   }
  }
 },
 "nbformat": 4,
 "nbformat_minor": 2
}
